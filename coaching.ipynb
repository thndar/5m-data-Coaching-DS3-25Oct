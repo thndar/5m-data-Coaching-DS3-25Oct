{
 "cells": [
  {
   "cell_type": "markdown",
   "id": "86511ed9",
   "metadata": {},
   "source": [
    "# Coaching DS3 (25 Oct 2025)"
   ]
  },
  {
   "cell_type": "markdown",
   "id": "847f6d55",
   "metadata": {},
   "source": [
    "## Agenda"
   ]
  },
  {
   "cell_type": "markdown",
   "id": "d73d151a",
   "metadata": {},
   "source": [
    "- Brief Revision on Git (Optional)\n",
    "- Review Conda and Jupyter Notebook \n",
    "- Numpy vs Pandas and Applications \n",
    "- Matrix Computation on ML (Optional) \n",
    "- Learn and Managed Stress \n",
    "- Class Activity (Video Game Sales)"
   ]
  },
  {
   "cell_type": "markdown",
   "id": "8499826f",
   "metadata": {},
   "source": [
    "## Conda"
   ]
  },
  {
   "cell_type": "raw",
   "id": "305302f5",
   "metadata": {
    "vscode": {
     "languageId": "raw"
    }
   },
   "source": [
    "conda env create -f environment.yml"
   ]
  },
  {
   "cell_type": "raw",
   "id": "bdeeba38",
   "metadata": {
    "vscode": {
     "languageId": "raw"
    }
   },
   "source": [
    "conda env list"
   ]
  },
  {
   "cell_type": "raw",
   "id": "fb1dae8e",
   "metadata": {
    "vscode": {
     "languageId": "raw"
    }
   },
   "source": [
    "conda create -n myenv python=3.11"
   ]
  },
  {
   "cell_type": "raw",
   "id": "a3b20a66",
   "metadata": {
    "vscode": {
     "languageId": "raw"
    }
   },
   "source": [
    "conda activate my env"
   ]
  },
  {
   "cell_type": "raw",
   "id": "c58243a8",
   "metadata": {
    "vscode": {
     "languageId": "raw"
    }
   },
   "source": [
    "conda install numpy pandas matplotlib seaborn"
   ]
  },
  {
   "cell_type": "raw",
   "id": "68bb0e53",
   "metadata": {
    "vscode": {
     "languageId": "raw"
    }
   },
   "source": [
    "conda env export --no-builds > myenv.yml"
   ]
  },
  {
   "cell_type": "raw",
   "id": "517865ff",
   "metadata": {
    "vscode": {
     "languageId": "raw"
    }
   },
   "source": [
    "conda env export --from-history > myenv_small.yml"
   ]
  },
  {
   "cell_type": "raw",
   "id": "fad4eb50",
   "metadata": {
    "vscode": {
     "languageId": "raw"
    }
   },
   "source": [
    "conda deactivate"
   ]
  },
  {
   "cell_type": "raw",
   "id": "1c40deab",
   "metadata": {
    "vscode": {
     "languageId": "raw"
    }
   },
   "source": [
    "conda remove -n myenv --all "
   ]
  },
  {
   "cell_type": "markdown",
   "id": "48e5e9d1",
   "metadata": {},
   "source": [
    "## Jupyter Notebook"
   ]
  },
  {
   "cell_type": "markdown",
   "id": "70935720",
   "metadata": {},
   "source": [
    "Ways to Open Jupyter Notebook:\n",
    "\n",
    "- VSCode via extension\n",
    "- Google Colab\n",
    "- Github Codespace\n",
    "\n",
    "Others:\n",
    "- Anaconda\n",
    "- Jupyter Notebook/Lab Server\n",
    "\n",
    "\n",
    "Using Notebook (Demo this notebook)\n",
    "- Markdown\n",
    "- Code in Markdown\n",
    "- Cell (markdown, python, SQL, perl etc)"
   ]
  },
  {
   "cell_type": "markdown",
   "id": "8b01d32f",
   "metadata": {},
   "source": [
    "# Numpy vs Pandas"
   ]
  },
  {
   "cell_type": "markdown",
   "id": "4aa39c91",
   "metadata": {},
   "source": [
    "- Pandas build on top of Numpy\n",
    "- We use Pandas most of the time"
   ]
  },
  {
   "cell_type": "code",
   "execution_count": 24,
   "id": "26fd4a59",
   "metadata": {},
   "outputs": [],
   "source": [
    "import numpy as np\n",
    "import pandas as pd"
   ]
  },
  {
   "cell_type": "markdown",
   "id": "d4380946",
   "metadata": {},
   "source": [
    "Import may take a while for first time use."
   ]
  },
  {
   "cell_type": "code",
   "execution_count": 16,
   "id": "8e9fe6b1",
   "metadata": {},
   "outputs": [
    {
     "name": "stdout",
     "output_type": "stream",
     "text": [
      "/home/thandar/5m-data-Coaching-DS3-25Oct\n"
     ]
    }
   ],
   "source": [
    "!pwd"
   ]
  },
  {
   "cell_type": "code",
   "execution_count": 17,
   "id": "12e9f2ec",
   "metadata": {
    "vscode": {
     "languageId": "shellscript"
    }
   },
   "outputs": [
    {
     "data": {
      "text/plain": [
       "'/home/thandar/5m-data-Coaching-DS3-25Oct'"
      ]
     },
     "execution_count": 17,
     "metadata": {},
     "output_type": "execute_result"
    }
   ],
   "source": [
    "pwd"
   ]
  },
  {
   "cell_type": "code",
   "execution_count": 32,
   "id": "83f0691c",
   "metadata": {},
   "outputs": [
    {
     "data": {
      "text/html": [
       "<div>\n",
       "<style scoped>\n",
       "    .dataframe tbody tr th:only-of-type {\n",
       "        vertical-align: middle;\n",
       "    }\n",
       "\n",
       "    .dataframe tbody tr th {\n",
       "        vertical-align: top;\n",
       "    }\n",
       "\n",
       "    .dataframe thead th {\n",
       "        text-align: right;\n",
       "    }\n",
       "</style>\n",
       "<table border=\"1\" class=\"dataframe\">\n",
       "  <thead>\n",
       "    <tr style=\"text-align: right;\">\n",
       "      <th></th>\n",
       "      <th>CustomerID</th>\n",
       "      <th>Gender</th>\n",
       "      <th>Age</th>\n",
       "      <th>Annual Income (k$)</th>\n",
       "      <th>Spending Score (1-100)</th>\n",
       "    </tr>\n",
       "  </thead>\n",
       "  <tbody>\n",
       "    <tr>\n",
       "      <th>0</th>\n",
       "      <td>1</td>\n",
       "      <td>Male</td>\n",
       "      <td>19</td>\n",
       "      <td>15</td>\n",
       "      <td>39</td>\n",
       "    </tr>\n",
       "    <tr>\n",
       "      <th>1</th>\n",
       "      <td>2</td>\n",
       "      <td>Male</td>\n",
       "      <td>21</td>\n",
       "      <td>15</td>\n",
       "      <td>81</td>\n",
       "    </tr>\n",
       "    <tr>\n",
       "      <th>2</th>\n",
       "      <td>3</td>\n",
       "      <td>Female</td>\n",
       "      <td>20</td>\n",
       "      <td>16</td>\n",
       "      <td>6</td>\n",
       "    </tr>\n",
       "    <tr>\n",
       "      <th>3</th>\n",
       "      <td>4</td>\n",
       "      <td>Female</td>\n",
       "      <td>23</td>\n",
       "      <td>16</td>\n",
       "      <td>77</td>\n",
       "    </tr>\n",
       "    <tr>\n",
       "      <th>4</th>\n",
       "      <td>5</td>\n",
       "      <td>Female</td>\n",
       "      <td>31</td>\n",
       "      <td>17</td>\n",
       "      <td>40</td>\n",
       "    </tr>\n",
       "    <tr>\n",
       "      <th>...</th>\n",
       "      <td>...</td>\n",
       "      <td>...</td>\n",
       "      <td>...</td>\n",
       "      <td>...</td>\n",
       "      <td>...</td>\n",
       "    </tr>\n",
       "    <tr>\n",
       "      <th>195</th>\n",
       "      <td>196</td>\n",
       "      <td>Female</td>\n",
       "      <td>35</td>\n",
       "      <td>120</td>\n",
       "      <td>79</td>\n",
       "    </tr>\n",
       "    <tr>\n",
       "      <th>196</th>\n",
       "      <td>197</td>\n",
       "      <td>Female</td>\n",
       "      <td>45</td>\n",
       "      <td>126</td>\n",
       "      <td>28</td>\n",
       "    </tr>\n",
       "    <tr>\n",
       "      <th>197</th>\n",
       "      <td>198</td>\n",
       "      <td>Male</td>\n",
       "      <td>32</td>\n",
       "      <td>126</td>\n",
       "      <td>74</td>\n",
       "    </tr>\n",
       "    <tr>\n",
       "      <th>198</th>\n",
       "      <td>199</td>\n",
       "      <td>Male</td>\n",
       "      <td>32</td>\n",
       "      <td>137</td>\n",
       "      <td>18</td>\n",
       "    </tr>\n",
       "    <tr>\n",
       "      <th>199</th>\n",
       "      <td>200</td>\n",
       "      <td>Male</td>\n",
       "      <td>30</td>\n",
       "      <td>137</td>\n",
       "      <td>83</td>\n",
       "    </tr>\n",
       "  </tbody>\n",
       "</table>\n",
       "<p>200 rows × 5 columns</p>\n",
       "</div>"
      ],
      "text/plain": [
       "     CustomerID  Gender  Age  Annual Income (k$)  Spending Score (1-100)\n",
       "0             1    Male   19                  15                      39\n",
       "1             2    Male   21                  15                      81\n",
       "2             3  Female   20                  16                       6\n",
       "3             4  Female   23                  16                      77\n",
       "4             5  Female   31                  17                      40\n",
       "..          ...     ...  ...                 ...                     ...\n",
       "195         196  Female   35                 120                      79\n",
       "196         197  Female   45                 126                      28\n",
       "197         198    Male   32                 126                      74\n",
       "198         199    Male   32                 137                      18\n",
       "199         200    Male   30                 137                      83\n",
       "\n",
       "[200 rows x 5 columns]"
      ]
     },
     "execution_count": 32,
     "metadata": {},
     "output_type": "execute_result"
    }
   ],
   "source": [
    "df = pd.read_csv('Mall_Customers.csv')\n",
    "df"
   ]
  },
  {
   "cell_type": "code",
   "execution_count": 33,
   "id": "02b168bc",
   "metadata": {},
   "outputs": [
    {
     "data": {
      "text/plain": [
       "(200, 5)"
      ]
     },
     "execution_count": 33,
     "metadata": {},
     "output_type": "execute_result"
    }
   ],
   "source": [
    "df.shape"
   ]
  },
  {
   "cell_type": "code",
   "execution_count": 34,
   "id": "215b6888",
   "metadata": {},
   "outputs": [
    {
     "data": {
      "text/plain": [
       "array([[1, 'Male', 19, 15, 39],\n",
       "       [2, 'Male', 21, 15, 81],\n",
       "       [3, 'Female', 20, 16, 6],\n",
       "       [4, 'Female', 23, 16, 77],\n",
       "       [5, 'Female', 31, 17, 40],\n",
       "       [6, 'Female', 22, 17, 76],\n",
       "       [7, 'Female', 35, 18, 6],\n",
       "       [8, 'Female', 23, 18, 94],\n",
       "       [9, 'Male', 64, 19, 3],\n",
       "       [10, 'Female', 30, 19, 72],\n",
       "       [11, 'Male', 67, 19, 14],\n",
       "       [12, 'Female', 35, 19, 99],\n",
       "       [13, 'Female', 58, 20, 15],\n",
       "       [14, 'Female', 24, 20, 77],\n",
       "       [15, 'Male', 37, 20, 13],\n",
       "       [16, 'Male', 22, 20, 79],\n",
       "       [17, 'Female', 35, 21, 35],\n",
       "       [18, 'Male', 20, 21, 66],\n",
       "       [19, 'Male', 52, 23, 29],\n",
       "       [20, 'Female', 35, 23, 98],\n",
       "       [21, 'Male', 35, 24, 35],\n",
       "       [22, 'Male', 25, 24, 73],\n",
       "       [23, 'Female', 46, 25, 5],\n",
       "       [24, 'Male', 31, 25, 73],\n",
       "       [25, 'Female', 54, 28, 14],\n",
       "       [26, 'Male', 29, 28, 82],\n",
       "       [27, 'Female', 45, 28, 32],\n",
       "       [28, 'Male', 35, 28, 61],\n",
       "       [29, 'Female', 40, 29, 31],\n",
       "       [30, 'Female', 23, 29, 87],\n",
       "       [31, 'Male', 60, 30, 4],\n",
       "       [32, 'Female', 21, 30, 73],\n",
       "       [33, 'Male', 53, 33, 4],\n",
       "       [34, 'Male', 18, 33, 92],\n",
       "       [35, 'Female', 49, 33, 14],\n",
       "       [36, 'Female', 21, 33, 81],\n",
       "       [37, 'Female', 42, 34, 17],\n",
       "       [38, 'Female', 30, 34, 73],\n",
       "       [39, 'Female', 36, 37, 26],\n",
       "       [40, 'Female', 20, 37, 75],\n",
       "       [41, 'Female', 65, 38, 35],\n",
       "       [42, 'Male', 24, 38, 92],\n",
       "       [43, 'Male', 48, 39, 36],\n",
       "       [44, 'Female', 31, 39, 61],\n",
       "       [45, 'Female', 49, 39, 28],\n",
       "       [46, 'Female', 24, 39, 65],\n",
       "       [47, 'Female', 50, 40, 55],\n",
       "       [48, 'Female', 27, 40, 47],\n",
       "       [49, 'Female', 29, 40, 42],\n",
       "       [50, 'Female', 31, 40, 42],\n",
       "       [51, 'Female', 49, 42, 52],\n",
       "       [52, 'Male', 33, 42, 60],\n",
       "       [53, 'Female', 31, 43, 54],\n",
       "       [54, 'Male', 59, 43, 60],\n",
       "       [55, 'Female', 50, 43, 45],\n",
       "       [56, 'Male', 47, 43, 41],\n",
       "       [57, 'Female', 51, 44, 50],\n",
       "       [58, 'Male', 69, 44, 46],\n",
       "       [59, 'Female', 27, 46, 51],\n",
       "       [60, 'Male', 53, 46, 46],\n",
       "       [61, 'Male', 70, 46, 56],\n",
       "       [62, 'Male', 19, 46, 55],\n",
       "       [63, 'Female', 67, 47, 52],\n",
       "       [64, 'Female', 54, 47, 59],\n",
       "       [65, 'Male', 63, 48, 51],\n",
       "       [66, 'Male', 18, 48, 59],\n",
       "       [67, 'Female', 43, 48, 50],\n",
       "       [68, 'Female', 68, 48, 48],\n",
       "       [69, 'Male', 19, 48, 59],\n",
       "       [70, 'Female', 32, 48, 47],\n",
       "       [71, 'Male', 70, 49, 55],\n",
       "       [72, 'Female', 47, 49, 42],\n",
       "       [73, 'Female', 60, 50, 49],\n",
       "       [74, 'Female', 60, 50, 56],\n",
       "       [75, 'Male', 59, 54, 47],\n",
       "       [76, 'Male', 26, 54, 54],\n",
       "       [77, 'Female', 45, 54, 53],\n",
       "       [78, 'Male', 40, 54, 48],\n",
       "       [79, 'Female', 23, 54, 52],\n",
       "       [80, 'Female', 49, 54, 42],\n",
       "       [81, 'Male', 57, 54, 51],\n",
       "       [82, 'Male', 38, 54, 55],\n",
       "       [83, 'Male', 67, 54, 41],\n",
       "       [84, 'Female', 46, 54, 44],\n",
       "       [85, 'Female', 21, 54, 57],\n",
       "       [86, 'Male', 48, 54, 46],\n",
       "       [87, 'Female', 55, 57, 58],\n",
       "       [88, 'Female', 22, 57, 55],\n",
       "       [89, 'Female', 34, 58, 60],\n",
       "       [90, 'Female', 50, 58, 46],\n",
       "       [91, 'Female', 68, 59, 55],\n",
       "       [92, 'Male', 18, 59, 41],\n",
       "       [93, 'Male', 48, 60, 49],\n",
       "       [94, 'Female', 40, 60, 40],\n",
       "       [95, 'Female', 32, 60, 42],\n",
       "       [96, 'Male', 24, 60, 52],\n",
       "       [97, 'Female', 47, 60, 47],\n",
       "       [98, 'Female', 27, 60, 50],\n",
       "       [99, 'Male', 48, 61, 42],\n",
       "       [100, 'Male', 20, 61, 49],\n",
       "       [101, 'Female', 23, 62, 41],\n",
       "       [102, 'Female', 49, 62, 48],\n",
       "       [103, 'Male', 67, 62, 59],\n",
       "       [104, 'Male', 26, 62, 55],\n",
       "       [105, 'Male', 49, 62, 56],\n",
       "       [106, 'Female', 21, 62, 42],\n",
       "       [107, 'Female', 66, 63, 50],\n",
       "       [108, 'Male', 54, 63, 46],\n",
       "       [109, 'Male', 68, 63, 43],\n",
       "       [110, 'Male', 66, 63, 48],\n",
       "       [111, 'Male', 65, 63, 52],\n",
       "       [112, 'Female', 19, 63, 54],\n",
       "       [113, 'Female', 38, 64, 42],\n",
       "       [114, 'Male', 19, 64, 46],\n",
       "       [115, 'Female', 18, 65, 48],\n",
       "       [116, 'Female', 19, 65, 50],\n",
       "       [117, 'Female', 63, 65, 43],\n",
       "       [118, 'Female', 49, 65, 59],\n",
       "       [119, 'Female', 51, 67, 43],\n",
       "       [120, 'Female', 50, 67, 57],\n",
       "       [121, 'Male', 27, 67, 56],\n",
       "       [122, 'Female', 38, 67, 40],\n",
       "       [123, 'Female', 40, 69, 58],\n",
       "       [124, 'Male', 39, 69, 91],\n",
       "       [125, 'Female', 23, 70, 29],\n",
       "       [126, 'Female', 31, 70, 77],\n",
       "       [127, 'Male', 43, 71, 35],\n",
       "       [128, 'Male', 40, 71, 95],\n",
       "       [129, 'Male', 59, 71, 11],\n",
       "       [130, 'Male', 38, 71, 75],\n",
       "       [131, 'Male', 47, 71, 9],\n",
       "       [132, 'Male', 39, 71, 75],\n",
       "       [133, 'Female', 25, 72, 34],\n",
       "       [134, 'Female', 31, 72, 71],\n",
       "       [135, 'Male', 20, 73, 5],\n",
       "       [136, 'Female', 29, 73, 88],\n",
       "       [137, 'Female', 44, 73, 7],\n",
       "       [138, 'Male', 32, 73, 73],\n",
       "       [139, 'Male', 19, 74, 10],\n",
       "       [140, 'Female', 35, 74, 72],\n",
       "       [141, 'Female', 57, 75, 5],\n",
       "       [142, 'Male', 32, 75, 93],\n",
       "       [143, 'Female', 28, 76, 40],\n",
       "       [144, 'Female', 32, 76, 87],\n",
       "       [145, 'Male', 25, 77, 12],\n",
       "       [146, 'Male', 28, 77, 97],\n",
       "       [147, 'Male', 48, 77, 36],\n",
       "       [148, 'Female', 32, 77, 74],\n",
       "       [149, 'Female', 34, 78, 22],\n",
       "       [150, 'Male', 34, 78, 90],\n",
       "       [151, 'Male', 43, 78, 17],\n",
       "       [152, 'Male', 39, 78, 88],\n",
       "       [153, 'Female', 44, 78, 20],\n",
       "       [154, 'Female', 38, 78, 76],\n",
       "       [155, 'Female', 47, 78, 16],\n",
       "       [156, 'Female', 27, 78, 89],\n",
       "       [157, 'Male', 37, 78, 1],\n",
       "       [158, 'Female', 30, 78, 78],\n",
       "       [159, 'Male', 34, 78, 1],\n",
       "       [160, 'Female', 30, 78, 73],\n",
       "       [161, 'Female', 56, 79, 35],\n",
       "       [162, 'Female', 29, 79, 83],\n",
       "       [163, 'Male', 19, 81, 5],\n",
       "       [164, 'Female', 31, 81, 93],\n",
       "       [165, 'Male', 50, 85, 26],\n",
       "       [166, 'Female', 36, 85, 75],\n",
       "       [167, 'Male', 42, 86, 20],\n",
       "       [168, 'Female', 33, 86, 95],\n",
       "       [169, 'Female', 36, 87, 27],\n",
       "       [170, 'Male', 32, 87, 63],\n",
       "       [171, 'Male', 40, 87, 13],\n",
       "       [172, 'Male', 28, 87, 75],\n",
       "       [173, 'Male', 36, 87, 10],\n",
       "       [174, 'Male', 36, 87, 92],\n",
       "       [175, 'Female', 52, 88, 13],\n",
       "       [176, 'Female', 30, 88, 86],\n",
       "       [177, 'Male', 58, 88, 15],\n",
       "       [178, 'Male', 27, 88, 69],\n",
       "       [179, 'Male', 59, 93, 14],\n",
       "       [180, 'Male', 35, 93, 90],\n",
       "       [181, 'Female', 37, 97, 32],\n",
       "       [182, 'Female', 32, 97, 86],\n",
       "       [183, 'Male', 46, 98, 15],\n",
       "       [184, 'Female', 29, 98, 88],\n",
       "       [185, 'Female', 41, 99, 39],\n",
       "       [186, 'Male', 30, 99, 97],\n",
       "       [187, 'Female', 54, 101, 24],\n",
       "       [188, 'Male', 28, 101, 68],\n",
       "       [189, 'Female', 41, 103, 17],\n",
       "       [190, 'Female', 36, 103, 85],\n",
       "       [191, 'Female', 34, 103, 23],\n",
       "       [192, 'Female', 32, 103, 69],\n",
       "       [193, 'Male', 33, 113, 8],\n",
       "       [194, 'Female', 38, 113, 91],\n",
       "       [195, 'Female', 47, 120, 16],\n",
       "       [196, 'Female', 35, 120, 79],\n",
       "       [197, 'Female', 45, 126, 28],\n",
       "       [198, 'Male', 32, 126, 74],\n",
       "       [199, 'Male', 32, 137, 18],\n",
       "       [200, 'Male', 30, 137, 83]], dtype=object)"
      ]
     },
     "execution_count": 34,
     "metadata": {},
     "output_type": "execute_result"
    }
   ],
   "source": [
    "data = df.to_numpy()\n",
    "data"
   ]
  },
  {
   "cell_type": "code",
   "execution_count": 35,
   "id": "04998b1b",
   "metadata": {},
   "outputs": [
    {
     "data": {
      "text/plain": [
       "(200, 5)"
      ]
     },
     "execution_count": 35,
     "metadata": {},
     "output_type": "execute_result"
    }
   ],
   "source": [
    "data.shape\n"
   ]
  },
  {
   "cell_type": "markdown",
   "id": "fac8faeb",
   "metadata": {},
   "source": [
    "### Columns \n",
    "\n",
    "- Columns manipulation are more common than partial slice"
   ]
  },
  {
   "cell_type": "markdown",
   "id": "a7cf4ff4",
   "metadata": {},
   "source": [
    "**List column 2**\n"
   ]
  },
  {
   "cell_type": "code",
   "execution_count": 30,
   "id": "3d09dc67",
   "metadata": {},
   "outputs": [
    {
     "data": {
      "text/plain": [
       "array([['Male'],\n",
       "       ['Male'],\n",
       "       ['Female'],\n",
       "       ['Female'],\n",
       "       ['Female'],\n",
       "       ['Female'],\n",
       "       ['Female'],\n",
       "       ['Female'],\n",
       "       ['Male'],\n",
       "       ['Female'],\n",
       "       ['Male'],\n",
       "       ['Female'],\n",
       "       ['Female'],\n",
       "       ['Female'],\n",
       "       ['Male'],\n",
       "       ['Male'],\n",
       "       ['Female'],\n",
       "       ['Male'],\n",
       "       ['Male'],\n",
       "       ['Female'],\n",
       "       ['Male'],\n",
       "       ['Male'],\n",
       "       ['Female'],\n",
       "       ['Male'],\n",
       "       ['Female'],\n",
       "       ['Male'],\n",
       "       ['Female'],\n",
       "       ['Male'],\n",
       "       ['Female'],\n",
       "       ['Female'],\n",
       "       ['Male'],\n",
       "       ['Female'],\n",
       "       ['Male'],\n",
       "       ['Male'],\n",
       "       ['Female'],\n",
       "       ['Female'],\n",
       "       ['Female'],\n",
       "       ['Female'],\n",
       "       ['Female'],\n",
       "       ['Female'],\n",
       "       ['Female'],\n",
       "       ['Male'],\n",
       "       ['Male'],\n",
       "       ['Female'],\n",
       "       ['Female'],\n",
       "       ['Female'],\n",
       "       ['Female'],\n",
       "       ['Female'],\n",
       "       ['Female'],\n",
       "       ['Female'],\n",
       "       ['Female'],\n",
       "       ['Male'],\n",
       "       ['Female'],\n",
       "       ['Male'],\n",
       "       ['Female'],\n",
       "       ['Male'],\n",
       "       ['Female'],\n",
       "       ['Male'],\n",
       "       ['Female'],\n",
       "       ['Male'],\n",
       "       ['Male'],\n",
       "       ['Male'],\n",
       "       ['Female'],\n",
       "       ['Female'],\n",
       "       ['Male'],\n",
       "       ['Male'],\n",
       "       ['Female'],\n",
       "       ['Female'],\n",
       "       ['Male'],\n",
       "       ['Female'],\n",
       "       ['Male'],\n",
       "       ['Female'],\n",
       "       ['Female'],\n",
       "       ['Female'],\n",
       "       ['Male'],\n",
       "       ['Male'],\n",
       "       ['Female'],\n",
       "       ['Male'],\n",
       "       ['Female'],\n",
       "       ['Female'],\n",
       "       ['Male'],\n",
       "       ['Male'],\n",
       "       ['Male'],\n",
       "       ['Female'],\n",
       "       ['Female'],\n",
       "       ['Male'],\n",
       "       ['Female'],\n",
       "       ['Female'],\n",
       "       ['Female'],\n",
       "       ['Female'],\n",
       "       ['Female'],\n",
       "       ['Male'],\n",
       "       ['Male'],\n",
       "       ['Female'],\n",
       "       ['Female'],\n",
       "       ['Male'],\n",
       "       ['Female'],\n",
       "       ['Female'],\n",
       "       ['Male'],\n",
       "       ['Male'],\n",
       "       ['Female'],\n",
       "       ['Female'],\n",
       "       ['Male'],\n",
       "       ['Male'],\n",
       "       ['Male'],\n",
       "       ['Female'],\n",
       "       ['Female'],\n",
       "       ['Male'],\n",
       "       ['Male'],\n",
       "       ['Male'],\n",
       "       ['Male'],\n",
       "       ['Female'],\n",
       "       ['Female'],\n",
       "       ['Male'],\n",
       "       ['Female'],\n",
       "       ['Female'],\n",
       "       ['Female'],\n",
       "       ['Female'],\n",
       "       ['Female'],\n",
       "       ['Female'],\n",
       "       ['Male'],\n",
       "       ['Female'],\n",
       "       ['Female'],\n",
       "       ['Male'],\n",
       "       ['Female'],\n",
       "       ['Female'],\n",
       "       ['Male'],\n",
       "       ['Male'],\n",
       "       ['Male'],\n",
       "       ['Male'],\n",
       "       ['Male'],\n",
       "       ['Male'],\n",
       "       ['Female'],\n",
       "       ['Female'],\n",
       "       ['Male'],\n",
       "       ['Female'],\n",
       "       ['Female'],\n",
       "       ['Male'],\n",
       "       ['Male'],\n",
       "       ['Female'],\n",
       "       ['Female'],\n",
       "       ['Male'],\n",
       "       ['Female'],\n",
       "       ['Female'],\n",
       "       ['Male'],\n",
       "       ['Male'],\n",
       "       ['Male'],\n",
       "       ['Female'],\n",
       "       ['Female'],\n",
       "       ['Male'],\n",
       "       ['Male'],\n",
       "       ['Male'],\n",
       "       ['Female'],\n",
       "       ['Female'],\n",
       "       ['Female'],\n",
       "       ['Female'],\n",
       "       ['Male'],\n",
       "       ['Female'],\n",
       "       ['Male'],\n",
       "       ['Female'],\n",
       "       ['Female'],\n",
       "       ['Female'],\n",
       "       ['Male'],\n",
       "       ['Female'],\n",
       "       ['Male'],\n",
       "       ['Female'],\n",
       "       ['Male'],\n",
       "       ['Female'],\n",
       "       ['Female'],\n",
       "       ['Male'],\n",
       "       ['Male'],\n",
       "       ['Male'],\n",
       "       ['Male'],\n",
       "       ['Male'],\n",
       "       ['Female'],\n",
       "       ['Female'],\n",
       "       ['Male'],\n",
       "       ['Male'],\n",
       "       ['Male'],\n",
       "       ['Male'],\n",
       "       ['Female'],\n",
       "       ['Female'],\n",
       "       ['Male'],\n",
       "       ['Female'],\n",
       "       ['Female'],\n",
       "       ['Male'],\n",
       "       ['Female'],\n",
       "       ['Male'],\n",
       "       ['Female'],\n",
       "       ['Female'],\n",
       "       ['Female'],\n",
       "       ['Female'],\n",
       "       ['Male'],\n",
       "       ['Female'],\n",
       "       ['Female'],\n",
       "       ['Female'],\n",
       "       ['Female'],\n",
       "       ['Male'],\n",
       "       ['Male'],\n",
       "       ['Male']], dtype=object)"
      ]
     },
     "execution_count": 30,
     "metadata": {},
     "output_type": "execute_result"
    }
   ],
   "source": [
    "data[:,1:2]"
   ]
  },
  {
   "cell_type": "code",
   "execution_count": 10,
   "id": "18110204",
   "metadata": {},
   "outputs": [
    {
     "data": {
      "text/plain": [
       "0        Male\n",
       "1        Male\n",
       "2      Female\n",
       "3      Female\n",
       "4      Female\n",
       "        ...  \n",
       "195    Female\n",
       "196    Female\n",
       "197      Male\n",
       "198      Male\n",
       "199      Male\n",
       "Name: Gender, Length: 200, dtype: object"
      ]
     },
     "execution_count": 10,
     "metadata": {},
     "output_type": "execute_result"
    }
   ],
   "source": [
    "df['Gender']"
   ]
  },
  {
   "cell_type": "markdown",
   "id": "764ad458",
   "metadata": {},
   "source": [
    "**Change Male to 1 and Female to 0**"
   ]
  },
  {
   "cell_type": "code",
   "execution_count": 31,
   "id": "77ad1cea",
   "metadata": {},
   "outputs": [
    {
     "data": {
      "text/plain": [
       "array([['Male'],\n",
       "       ['Male'],\n",
       "       ['Female'],\n",
       "       ['Female'],\n",
       "       ['Female'],\n",
       "       ['Female'],\n",
       "       ['Female'],\n",
       "       ['Female'],\n",
       "       ['Male'],\n",
       "       ['Female'],\n",
       "       ['Male'],\n",
       "       ['Female'],\n",
       "       ['Female'],\n",
       "       ['Female'],\n",
       "       ['Male'],\n",
       "       ['Male'],\n",
       "       ['Female'],\n",
       "       ['Male'],\n",
       "       ['Male'],\n",
       "       ['Female'],\n",
       "       ['Male'],\n",
       "       ['Male'],\n",
       "       ['Female'],\n",
       "       ['Male'],\n",
       "       ['Female'],\n",
       "       ['Male'],\n",
       "       ['Female'],\n",
       "       ['Male'],\n",
       "       ['Female'],\n",
       "       ['Female'],\n",
       "       ['Male'],\n",
       "       ['Female'],\n",
       "       ['Male'],\n",
       "       ['Male'],\n",
       "       ['Female'],\n",
       "       ['Female'],\n",
       "       ['Female'],\n",
       "       ['Female'],\n",
       "       ['Female'],\n",
       "       ['Female'],\n",
       "       ['Female'],\n",
       "       ['Male'],\n",
       "       ['Male'],\n",
       "       ['Female'],\n",
       "       ['Female'],\n",
       "       ['Female'],\n",
       "       ['Female'],\n",
       "       ['Female'],\n",
       "       ['Female'],\n",
       "       ['Female'],\n",
       "       ['Female'],\n",
       "       ['Male'],\n",
       "       ['Female'],\n",
       "       ['Male'],\n",
       "       ['Female'],\n",
       "       ['Male'],\n",
       "       ['Female'],\n",
       "       ['Male'],\n",
       "       ['Female'],\n",
       "       ['Male'],\n",
       "       ['Male'],\n",
       "       ['Male'],\n",
       "       ['Female'],\n",
       "       ['Female'],\n",
       "       ['Male'],\n",
       "       ['Male'],\n",
       "       ['Female'],\n",
       "       ['Female'],\n",
       "       ['Male'],\n",
       "       ['Female'],\n",
       "       ['Male'],\n",
       "       ['Female'],\n",
       "       ['Female'],\n",
       "       ['Female'],\n",
       "       ['Male'],\n",
       "       ['Male'],\n",
       "       ['Female'],\n",
       "       ['Male'],\n",
       "       ['Female'],\n",
       "       ['Female'],\n",
       "       ['Male'],\n",
       "       ['Male'],\n",
       "       ['Male'],\n",
       "       ['Female'],\n",
       "       ['Female'],\n",
       "       ['Male'],\n",
       "       ['Female'],\n",
       "       ['Female'],\n",
       "       ['Female'],\n",
       "       ['Female'],\n",
       "       ['Female'],\n",
       "       ['Male'],\n",
       "       ['Male'],\n",
       "       ['Female'],\n",
       "       ['Female'],\n",
       "       ['Male'],\n",
       "       ['Female'],\n",
       "       ['Female'],\n",
       "       ['Male'],\n",
       "       ['Male'],\n",
       "       ['Female'],\n",
       "       ['Female'],\n",
       "       ['Male'],\n",
       "       ['Male'],\n",
       "       ['Male'],\n",
       "       ['Female'],\n",
       "       ['Female'],\n",
       "       ['Male'],\n",
       "       ['Male'],\n",
       "       ['Male'],\n",
       "       ['Male'],\n",
       "       ['Female'],\n",
       "       ['Female'],\n",
       "       ['Male'],\n",
       "       ['Female'],\n",
       "       ['Female'],\n",
       "       ['Female'],\n",
       "       ['Female'],\n",
       "       ['Female'],\n",
       "       ['Female'],\n",
       "       ['Male'],\n",
       "       ['Female'],\n",
       "       ['Female'],\n",
       "       ['Male'],\n",
       "       ['Female'],\n",
       "       ['Female'],\n",
       "       ['Male'],\n",
       "       ['Male'],\n",
       "       ['Male'],\n",
       "       ['Male'],\n",
       "       ['Male'],\n",
       "       ['Male'],\n",
       "       ['Female'],\n",
       "       ['Female'],\n",
       "       ['Male'],\n",
       "       ['Female'],\n",
       "       ['Female'],\n",
       "       ['Male'],\n",
       "       ['Male'],\n",
       "       ['Female'],\n",
       "       ['Female'],\n",
       "       ['Male'],\n",
       "       ['Female'],\n",
       "       ['Female'],\n",
       "       ['Male'],\n",
       "       ['Male'],\n",
       "       ['Male'],\n",
       "       ['Female'],\n",
       "       ['Female'],\n",
       "       ['Male'],\n",
       "       ['Male'],\n",
       "       ['Male'],\n",
       "       ['Female'],\n",
       "       ['Female'],\n",
       "       ['Female'],\n",
       "       ['Female'],\n",
       "       ['Male'],\n",
       "       ['Female'],\n",
       "       ['Male'],\n",
       "       ['Female'],\n",
       "       ['Female'],\n",
       "       ['Female'],\n",
       "       ['Male'],\n",
       "       ['Female'],\n",
       "       ['Male'],\n",
       "       ['Female'],\n",
       "       ['Male'],\n",
       "       ['Female'],\n",
       "       ['Female'],\n",
       "       ['Male'],\n",
       "       ['Male'],\n",
       "       ['Male'],\n",
       "       ['Male'],\n",
       "       ['Male'],\n",
       "       ['Female'],\n",
       "       ['Female'],\n",
       "       ['Male'],\n",
       "       ['Male'],\n",
       "       ['Male'],\n",
       "       ['Male'],\n",
       "       ['Female'],\n",
       "       ['Female'],\n",
       "       ['Male'],\n",
       "       ['Female'],\n",
       "       ['Female'],\n",
       "       ['Male'],\n",
       "       ['Female'],\n",
       "       ['Male'],\n",
       "       ['Female'],\n",
       "       ['Female'],\n",
       "       ['Female'],\n",
       "       ['Female'],\n",
       "       ['Male'],\n",
       "       ['Female'],\n",
       "       ['Female'],\n",
       "       ['Female'],\n",
       "       ['Female'],\n",
       "       ['Male'],\n",
       "       ['Male'],\n",
       "       ['Male']], dtype=object)"
      ]
     },
     "execution_count": 31,
     "metadata": {},
     "output_type": "execute_result"
    }
   ],
   "source": [
    "data[:,1:2]"
   ]
  },
  {
   "cell_type": "code",
   "execution_count": 12,
   "id": "2c727eed",
   "metadata": {},
   "outputs": [
    {
     "data": {
      "text/plain": [
       "array([[1],\n",
       "       [1],\n",
       "       [0],\n",
       "       [0],\n",
       "       [0],\n",
       "       [0],\n",
       "       [0],\n",
       "       [0],\n",
       "       [1],\n",
       "       [0],\n",
       "       [1],\n",
       "       [0],\n",
       "       [0],\n",
       "       [0],\n",
       "       [1],\n",
       "       [1],\n",
       "       [0],\n",
       "       [1],\n",
       "       [1],\n",
       "       [0],\n",
       "       [1],\n",
       "       [1],\n",
       "       [0],\n",
       "       [1],\n",
       "       [0],\n",
       "       [1],\n",
       "       [0],\n",
       "       [1],\n",
       "       [0],\n",
       "       [0],\n",
       "       [1],\n",
       "       [0],\n",
       "       [1],\n",
       "       [1],\n",
       "       [0],\n",
       "       [0],\n",
       "       [0],\n",
       "       [0],\n",
       "       [0],\n",
       "       [0],\n",
       "       [0],\n",
       "       [1],\n",
       "       [1],\n",
       "       [0],\n",
       "       [0],\n",
       "       [0],\n",
       "       [0],\n",
       "       [0],\n",
       "       [0],\n",
       "       [0],\n",
       "       [0],\n",
       "       [1],\n",
       "       [0],\n",
       "       [1],\n",
       "       [0],\n",
       "       [1],\n",
       "       [0],\n",
       "       [1],\n",
       "       [0],\n",
       "       [1],\n",
       "       [1],\n",
       "       [1],\n",
       "       [0],\n",
       "       [0],\n",
       "       [1],\n",
       "       [1],\n",
       "       [0],\n",
       "       [0],\n",
       "       [1],\n",
       "       [0],\n",
       "       [1],\n",
       "       [0],\n",
       "       [0],\n",
       "       [0],\n",
       "       [1],\n",
       "       [1],\n",
       "       [0],\n",
       "       [1],\n",
       "       [0],\n",
       "       [0],\n",
       "       [1],\n",
       "       [1],\n",
       "       [1],\n",
       "       [0],\n",
       "       [0],\n",
       "       [1],\n",
       "       [0],\n",
       "       [0],\n",
       "       [0],\n",
       "       [0],\n",
       "       [0],\n",
       "       [1],\n",
       "       [1],\n",
       "       [0],\n",
       "       [0],\n",
       "       [1],\n",
       "       [0],\n",
       "       [0],\n",
       "       [1],\n",
       "       [1],\n",
       "       [0],\n",
       "       [0],\n",
       "       [1],\n",
       "       [1],\n",
       "       [1],\n",
       "       [0],\n",
       "       [0],\n",
       "       [1],\n",
       "       [1],\n",
       "       [1],\n",
       "       [1],\n",
       "       [0],\n",
       "       [0],\n",
       "       [1],\n",
       "       [0],\n",
       "       [0],\n",
       "       [0],\n",
       "       [0],\n",
       "       [0],\n",
       "       [0],\n",
       "       [1],\n",
       "       [0],\n",
       "       [0],\n",
       "       [1],\n",
       "       [0],\n",
       "       [0],\n",
       "       [1],\n",
       "       [1],\n",
       "       [1],\n",
       "       [1],\n",
       "       [1],\n",
       "       [1],\n",
       "       [0],\n",
       "       [0],\n",
       "       [1],\n",
       "       [0],\n",
       "       [0],\n",
       "       [1],\n",
       "       [1],\n",
       "       [0],\n",
       "       [0],\n",
       "       [1],\n",
       "       [0],\n",
       "       [0],\n",
       "       [1],\n",
       "       [1],\n",
       "       [1],\n",
       "       [0],\n",
       "       [0],\n",
       "       [1],\n",
       "       [1],\n",
       "       [1],\n",
       "       [0],\n",
       "       [0],\n",
       "       [0],\n",
       "       [0],\n",
       "       [1],\n",
       "       [0],\n",
       "       [1],\n",
       "       [0],\n",
       "       [0],\n",
       "       [0],\n",
       "       [1],\n",
       "       [0],\n",
       "       [1],\n",
       "       [0],\n",
       "       [1],\n",
       "       [0],\n",
       "       [0],\n",
       "       [1],\n",
       "       [1],\n",
       "       [1],\n",
       "       [1],\n",
       "       [1],\n",
       "       [0],\n",
       "       [0],\n",
       "       [1],\n",
       "       [1],\n",
       "       [1],\n",
       "       [1],\n",
       "       [0],\n",
       "       [0],\n",
       "       [1],\n",
       "       [0],\n",
       "       [0],\n",
       "       [1],\n",
       "       [0],\n",
       "       [1],\n",
       "       [0],\n",
       "       [0],\n",
       "       [0],\n",
       "       [0],\n",
       "       [1],\n",
       "       [0],\n",
       "       [0],\n",
       "       [0],\n",
       "       [0],\n",
       "       [1],\n",
       "       [1],\n",
       "       [1]])"
      ]
     },
     "execution_count": 12,
     "metadata": {},
     "output_type": "execute_result"
    }
   ],
   "source": [
    "# Try np.where without actual assignment. Check if conversion is ok.\n",
    "np.where(data[:,1:2] == 'Male', 1, 0)"
   ]
  },
  {
   "cell_type": "code",
   "execution_count": 13,
   "id": "5c54eded",
   "metadata": {},
   "outputs": [],
   "source": [
    "# Perform actual conversion\n",
    "data[:,1:2] = np.where(data[:,1:2] == 'Male', 1, 0)"
   ]
  },
  {
   "cell_type": "code",
   "execution_count": 14,
   "id": "1d4785b6",
   "metadata": {},
   "outputs": [
    {
     "data": {
      "text/plain": [
       "array([[1, 1, 19, 15, 39],\n",
       "       [2, 1, 21, 15, 81],\n",
       "       [3, 0, 20, 16, 6],\n",
       "       [4, 0, 23, 16, 77],\n",
       "       [5, 0, 31, 17, 40],\n",
       "       [6, 0, 22, 17, 76],\n",
       "       [7, 0, 35, 18, 6],\n",
       "       [8, 0, 23, 18, 94],\n",
       "       [9, 1, 64, 19, 3],\n",
       "       [10, 0, 30, 19, 72],\n",
       "       [11, 1, 67, 19, 14],\n",
       "       [12, 0, 35, 19, 99],\n",
       "       [13, 0, 58, 20, 15],\n",
       "       [14, 0, 24, 20, 77],\n",
       "       [15, 1, 37, 20, 13],\n",
       "       [16, 1, 22, 20, 79],\n",
       "       [17, 0, 35, 21, 35],\n",
       "       [18, 1, 20, 21, 66],\n",
       "       [19, 1, 52, 23, 29],\n",
       "       [20, 0, 35, 23, 98],\n",
       "       [21, 1, 35, 24, 35],\n",
       "       [22, 1, 25, 24, 73],\n",
       "       [23, 0, 46, 25, 5],\n",
       "       [24, 1, 31, 25, 73],\n",
       "       [25, 0, 54, 28, 14],\n",
       "       [26, 1, 29, 28, 82],\n",
       "       [27, 0, 45, 28, 32],\n",
       "       [28, 1, 35, 28, 61],\n",
       "       [29, 0, 40, 29, 31],\n",
       "       [30, 0, 23, 29, 87],\n",
       "       [31, 1, 60, 30, 4],\n",
       "       [32, 0, 21, 30, 73],\n",
       "       [33, 1, 53, 33, 4],\n",
       "       [34, 1, 18, 33, 92],\n",
       "       [35, 0, 49, 33, 14],\n",
       "       [36, 0, 21, 33, 81],\n",
       "       [37, 0, 42, 34, 17],\n",
       "       [38, 0, 30, 34, 73],\n",
       "       [39, 0, 36, 37, 26],\n",
       "       [40, 0, 20, 37, 75],\n",
       "       [41, 0, 65, 38, 35],\n",
       "       [42, 1, 24, 38, 92],\n",
       "       [43, 1, 48, 39, 36],\n",
       "       [44, 0, 31, 39, 61],\n",
       "       [45, 0, 49, 39, 28],\n",
       "       [46, 0, 24, 39, 65],\n",
       "       [47, 0, 50, 40, 55],\n",
       "       [48, 0, 27, 40, 47],\n",
       "       [49, 0, 29, 40, 42],\n",
       "       [50, 0, 31, 40, 42],\n",
       "       [51, 0, 49, 42, 52],\n",
       "       [52, 1, 33, 42, 60],\n",
       "       [53, 0, 31, 43, 54],\n",
       "       [54, 1, 59, 43, 60],\n",
       "       [55, 0, 50, 43, 45],\n",
       "       [56, 1, 47, 43, 41],\n",
       "       [57, 0, 51, 44, 50],\n",
       "       [58, 1, 69, 44, 46],\n",
       "       [59, 0, 27, 46, 51],\n",
       "       [60, 1, 53, 46, 46],\n",
       "       [61, 1, 70, 46, 56],\n",
       "       [62, 1, 19, 46, 55],\n",
       "       [63, 0, 67, 47, 52],\n",
       "       [64, 0, 54, 47, 59],\n",
       "       [65, 1, 63, 48, 51],\n",
       "       [66, 1, 18, 48, 59],\n",
       "       [67, 0, 43, 48, 50],\n",
       "       [68, 0, 68, 48, 48],\n",
       "       [69, 1, 19, 48, 59],\n",
       "       [70, 0, 32, 48, 47],\n",
       "       [71, 1, 70, 49, 55],\n",
       "       [72, 0, 47, 49, 42],\n",
       "       [73, 0, 60, 50, 49],\n",
       "       [74, 0, 60, 50, 56],\n",
       "       [75, 1, 59, 54, 47],\n",
       "       [76, 1, 26, 54, 54],\n",
       "       [77, 0, 45, 54, 53],\n",
       "       [78, 1, 40, 54, 48],\n",
       "       [79, 0, 23, 54, 52],\n",
       "       [80, 0, 49, 54, 42],\n",
       "       [81, 1, 57, 54, 51],\n",
       "       [82, 1, 38, 54, 55],\n",
       "       [83, 1, 67, 54, 41],\n",
       "       [84, 0, 46, 54, 44],\n",
       "       [85, 0, 21, 54, 57],\n",
       "       [86, 1, 48, 54, 46],\n",
       "       [87, 0, 55, 57, 58],\n",
       "       [88, 0, 22, 57, 55],\n",
       "       [89, 0, 34, 58, 60],\n",
       "       [90, 0, 50, 58, 46],\n",
       "       [91, 0, 68, 59, 55],\n",
       "       [92, 1, 18, 59, 41],\n",
       "       [93, 1, 48, 60, 49],\n",
       "       [94, 0, 40, 60, 40],\n",
       "       [95, 0, 32, 60, 42],\n",
       "       [96, 1, 24, 60, 52],\n",
       "       [97, 0, 47, 60, 47],\n",
       "       [98, 0, 27, 60, 50],\n",
       "       [99, 1, 48, 61, 42],\n",
       "       [100, 1, 20, 61, 49],\n",
       "       [101, 0, 23, 62, 41],\n",
       "       [102, 0, 49, 62, 48],\n",
       "       [103, 1, 67, 62, 59],\n",
       "       [104, 1, 26, 62, 55],\n",
       "       [105, 1, 49, 62, 56],\n",
       "       [106, 0, 21, 62, 42],\n",
       "       [107, 0, 66, 63, 50],\n",
       "       [108, 1, 54, 63, 46],\n",
       "       [109, 1, 68, 63, 43],\n",
       "       [110, 1, 66, 63, 48],\n",
       "       [111, 1, 65, 63, 52],\n",
       "       [112, 0, 19, 63, 54],\n",
       "       [113, 0, 38, 64, 42],\n",
       "       [114, 1, 19, 64, 46],\n",
       "       [115, 0, 18, 65, 48],\n",
       "       [116, 0, 19, 65, 50],\n",
       "       [117, 0, 63, 65, 43],\n",
       "       [118, 0, 49, 65, 59],\n",
       "       [119, 0, 51, 67, 43],\n",
       "       [120, 0, 50, 67, 57],\n",
       "       [121, 1, 27, 67, 56],\n",
       "       [122, 0, 38, 67, 40],\n",
       "       [123, 0, 40, 69, 58],\n",
       "       [124, 1, 39, 69, 91],\n",
       "       [125, 0, 23, 70, 29],\n",
       "       [126, 0, 31, 70, 77],\n",
       "       [127, 1, 43, 71, 35],\n",
       "       [128, 1, 40, 71, 95],\n",
       "       [129, 1, 59, 71, 11],\n",
       "       [130, 1, 38, 71, 75],\n",
       "       [131, 1, 47, 71, 9],\n",
       "       [132, 1, 39, 71, 75],\n",
       "       [133, 0, 25, 72, 34],\n",
       "       [134, 0, 31, 72, 71],\n",
       "       [135, 1, 20, 73, 5],\n",
       "       [136, 0, 29, 73, 88],\n",
       "       [137, 0, 44, 73, 7],\n",
       "       [138, 1, 32, 73, 73],\n",
       "       [139, 1, 19, 74, 10],\n",
       "       [140, 0, 35, 74, 72],\n",
       "       [141, 0, 57, 75, 5],\n",
       "       [142, 1, 32, 75, 93],\n",
       "       [143, 0, 28, 76, 40],\n",
       "       [144, 0, 32, 76, 87],\n",
       "       [145, 1, 25, 77, 12],\n",
       "       [146, 1, 28, 77, 97],\n",
       "       [147, 1, 48, 77, 36],\n",
       "       [148, 0, 32, 77, 74],\n",
       "       [149, 0, 34, 78, 22],\n",
       "       [150, 1, 34, 78, 90],\n",
       "       [151, 1, 43, 78, 17],\n",
       "       [152, 1, 39, 78, 88],\n",
       "       [153, 0, 44, 78, 20],\n",
       "       [154, 0, 38, 78, 76],\n",
       "       [155, 0, 47, 78, 16],\n",
       "       [156, 0, 27, 78, 89],\n",
       "       [157, 1, 37, 78, 1],\n",
       "       [158, 0, 30, 78, 78],\n",
       "       [159, 1, 34, 78, 1],\n",
       "       [160, 0, 30, 78, 73],\n",
       "       [161, 0, 56, 79, 35],\n",
       "       [162, 0, 29, 79, 83],\n",
       "       [163, 1, 19, 81, 5],\n",
       "       [164, 0, 31, 81, 93],\n",
       "       [165, 1, 50, 85, 26],\n",
       "       [166, 0, 36, 85, 75],\n",
       "       [167, 1, 42, 86, 20],\n",
       "       [168, 0, 33, 86, 95],\n",
       "       [169, 0, 36, 87, 27],\n",
       "       [170, 1, 32, 87, 63],\n",
       "       [171, 1, 40, 87, 13],\n",
       "       [172, 1, 28, 87, 75],\n",
       "       [173, 1, 36, 87, 10],\n",
       "       [174, 1, 36, 87, 92],\n",
       "       [175, 0, 52, 88, 13],\n",
       "       [176, 0, 30, 88, 86],\n",
       "       [177, 1, 58, 88, 15],\n",
       "       [178, 1, 27, 88, 69],\n",
       "       [179, 1, 59, 93, 14],\n",
       "       [180, 1, 35, 93, 90],\n",
       "       [181, 0, 37, 97, 32],\n",
       "       [182, 0, 32, 97, 86],\n",
       "       [183, 1, 46, 98, 15],\n",
       "       [184, 0, 29, 98, 88],\n",
       "       [185, 0, 41, 99, 39],\n",
       "       [186, 1, 30, 99, 97],\n",
       "       [187, 0, 54, 101, 24],\n",
       "       [188, 1, 28, 101, 68],\n",
       "       [189, 0, 41, 103, 17],\n",
       "       [190, 0, 36, 103, 85],\n",
       "       [191, 0, 34, 103, 23],\n",
       "       [192, 0, 32, 103, 69],\n",
       "       [193, 1, 33, 113, 8],\n",
       "       [194, 0, 38, 113, 91],\n",
       "       [195, 0, 47, 120, 16],\n",
       "       [196, 0, 35, 120, 79],\n",
       "       [197, 0, 45, 126, 28],\n",
       "       [198, 1, 32, 126, 74],\n",
       "       [199, 1, 32, 137, 18],\n",
       "       [200, 1, 30, 137, 83]], dtype=object)"
      ]
     },
     "execution_count": 14,
     "metadata": {},
     "output_type": "execute_result"
    }
   ],
   "source": [
    "data"
   ]
  },
  {
   "cell_type": "markdown",
   "id": "b51bfe2e",
   "metadata": {},
   "source": [
    "Pandas"
   ]
  },
  {
   "cell_type": "code",
   "execution_count": 15,
   "id": "54b6cbd3",
   "metadata": {},
   "outputs": [
    {
     "data": {
      "text/plain": [
       "0        Male\n",
       "1        Male\n",
       "2      Female\n",
       "3      Female\n",
       "4      Female\n",
       "        ...  \n",
       "195    Female\n",
       "196    Female\n",
       "197      Male\n",
       "198      Male\n",
       "199      Male\n",
       "Name: Gender, Length: 200, dtype: object"
      ]
     },
     "execution_count": 15,
     "metadata": {},
     "output_type": "execute_result"
    }
   ],
   "source": [
    "df['Gender']"
   ]
  },
  {
   "cell_type": "code",
   "execution_count": 16,
   "id": "14c4edfd",
   "metadata": {},
   "outputs": [
    {
     "data": {
      "text/plain": [
       "0      1\n",
       "1      1\n",
       "2      0\n",
       "3      0\n",
       "4      0\n",
       "      ..\n",
       "195    0\n",
       "196    0\n",
       "197    1\n",
       "198    1\n",
       "199    1\n",
       "Name: Gender, Length: 200, dtype: int64"
      ]
     },
     "execution_count": 16,
     "metadata": {},
     "output_type": "execute_result"
    }
   ],
   "source": [
    "# Try df.replace without actual assignment. Check if conversion is ok.\n",
    "df['Gender'].replace({'Male': 1, 'Female': 0})"
   ]
  },
  {
   "cell_type": "code",
   "execution_count": 17,
   "id": "181ed9d4",
   "metadata": {},
   "outputs": [],
   "source": [
    "# Perform actual conversion\n",
    "df['Gender'] = df['Gender'].replace({'Male': 1, 'Female': 0})"
   ]
  },
  {
   "cell_type": "code",
   "execution_count": 18,
   "id": "7517585a",
   "metadata": {},
   "outputs": [
    {
     "data": {
      "text/html": [
       "<div>\n",
       "<style scoped>\n",
       "    .dataframe tbody tr th:only-of-type {\n",
       "        vertical-align: middle;\n",
       "    }\n",
       "\n",
       "    .dataframe tbody tr th {\n",
       "        vertical-align: top;\n",
       "    }\n",
       "\n",
       "    .dataframe thead th {\n",
       "        text-align: right;\n",
       "    }\n",
       "</style>\n",
       "<table border=\"1\" class=\"dataframe\">\n",
       "  <thead>\n",
       "    <tr style=\"text-align: right;\">\n",
       "      <th></th>\n",
       "      <th>CustomerID</th>\n",
       "      <th>Gender</th>\n",
       "      <th>Age</th>\n",
       "      <th>Annual Income (k$)</th>\n",
       "      <th>Spending Score (1-100)</th>\n",
       "    </tr>\n",
       "  </thead>\n",
       "  <tbody>\n",
       "    <tr>\n",
       "      <th>0</th>\n",
       "      <td>1</td>\n",
       "      <td>1</td>\n",
       "      <td>19</td>\n",
       "      <td>15</td>\n",
       "      <td>39</td>\n",
       "    </tr>\n",
       "    <tr>\n",
       "      <th>1</th>\n",
       "      <td>2</td>\n",
       "      <td>1</td>\n",
       "      <td>21</td>\n",
       "      <td>15</td>\n",
       "      <td>81</td>\n",
       "    </tr>\n",
       "    <tr>\n",
       "      <th>2</th>\n",
       "      <td>3</td>\n",
       "      <td>0</td>\n",
       "      <td>20</td>\n",
       "      <td>16</td>\n",
       "      <td>6</td>\n",
       "    </tr>\n",
       "    <tr>\n",
       "      <th>3</th>\n",
       "      <td>4</td>\n",
       "      <td>0</td>\n",
       "      <td>23</td>\n",
       "      <td>16</td>\n",
       "      <td>77</td>\n",
       "    </tr>\n",
       "    <tr>\n",
       "      <th>4</th>\n",
       "      <td>5</td>\n",
       "      <td>0</td>\n",
       "      <td>31</td>\n",
       "      <td>17</td>\n",
       "      <td>40</td>\n",
       "    </tr>\n",
       "    <tr>\n",
       "      <th>...</th>\n",
       "      <td>...</td>\n",
       "      <td>...</td>\n",
       "      <td>...</td>\n",
       "      <td>...</td>\n",
       "      <td>...</td>\n",
       "    </tr>\n",
       "    <tr>\n",
       "      <th>195</th>\n",
       "      <td>196</td>\n",
       "      <td>0</td>\n",
       "      <td>35</td>\n",
       "      <td>120</td>\n",
       "      <td>79</td>\n",
       "    </tr>\n",
       "    <tr>\n",
       "      <th>196</th>\n",
       "      <td>197</td>\n",
       "      <td>0</td>\n",
       "      <td>45</td>\n",
       "      <td>126</td>\n",
       "      <td>28</td>\n",
       "    </tr>\n",
       "    <tr>\n",
       "      <th>197</th>\n",
       "      <td>198</td>\n",
       "      <td>1</td>\n",
       "      <td>32</td>\n",
       "      <td>126</td>\n",
       "      <td>74</td>\n",
       "    </tr>\n",
       "    <tr>\n",
       "      <th>198</th>\n",
       "      <td>199</td>\n",
       "      <td>1</td>\n",
       "      <td>32</td>\n",
       "      <td>137</td>\n",
       "      <td>18</td>\n",
       "    </tr>\n",
       "    <tr>\n",
       "      <th>199</th>\n",
       "      <td>200</td>\n",
       "      <td>1</td>\n",
       "      <td>30</td>\n",
       "      <td>137</td>\n",
       "      <td>83</td>\n",
       "    </tr>\n",
       "  </tbody>\n",
       "</table>\n",
       "<p>200 rows × 5 columns</p>\n",
       "</div>"
      ],
      "text/plain": [
       "     CustomerID  Gender  Age  Annual Income (k$)  Spending Score (1-100)\n",
       "0             1       1   19                  15                      39\n",
       "1             2       1   21                  15                      81\n",
       "2             3       0   20                  16                       6\n",
       "3             4       0   23                  16                      77\n",
       "4             5       0   31                  17                      40\n",
       "..          ...     ...  ...                 ...                     ...\n",
       "195         196       0   35                 120                      79\n",
       "196         197       0   45                 126                      28\n",
       "197         198       1   32                 126                      74\n",
       "198         199       1   32                 137                      18\n",
       "199         200       1   30                 137                      83\n",
       "\n",
       "[200 rows x 5 columns]"
      ]
     },
     "execution_count": 18,
     "metadata": {},
     "output_type": "execute_result"
    }
   ],
   "source": [
    "df"
   ]
  },
  {
   "cell_type": "markdown",
   "id": "0c4aa5c4",
   "metadata": {},
   "source": [
    "#### Numpy Function and Axis"
   ]
  },
  {
   "cell_type": "markdown",
   "id": "fb7e7a3b",
   "metadata": {},
   "source": [
    "- Also applies to Pandas\n",
    "- Focus on axis as we usually manipulation rows and columns"
   ]
  },
  {
   "cell_type": "code",
   "execution_count": 19,
   "id": "b0bfce1c",
   "metadata": {},
   "outputs": [
    {
     "data": {
      "text/plain": [
       "array([[1, 1, 19, 15, 39],\n",
       "       [2, 1, 21, 15, 81],\n",
       "       [3, 0, 20, 16, 6],\n",
       "       [4, 0, 23, 16, 77],\n",
       "       [5, 0, 31, 17, 40],\n",
       "       [6, 0, 22, 17, 76],\n",
       "       [7, 0, 35, 18, 6],\n",
       "       [8, 0, 23, 18, 94],\n",
       "       [9, 1, 64, 19, 3],\n",
       "       [10, 0, 30, 19, 72],\n",
       "       [11, 1, 67, 19, 14],\n",
       "       [12, 0, 35, 19, 99],\n",
       "       [13, 0, 58, 20, 15],\n",
       "       [14, 0, 24, 20, 77],\n",
       "       [15, 1, 37, 20, 13],\n",
       "       [16, 1, 22, 20, 79],\n",
       "       [17, 0, 35, 21, 35],\n",
       "       [18, 1, 20, 21, 66],\n",
       "       [19, 1, 52, 23, 29],\n",
       "       [20, 0, 35, 23, 98],\n",
       "       [21, 1, 35, 24, 35],\n",
       "       [22, 1, 25, 24, 73],\n",
       "       [23, 0, 46, 25, 5],\n",
       "       [24, 1, 31, 25, 73],\n",
       "       [25, 0, 54, 28, 14],\n",
       "       [26, 1, 29, 28, 82],\n",
       "       [27, 0, 45, 28, 32],\n",
       "       [28, 1, 35, 28, 61],\n",
       "       [29, 0, 40, 29, 31],\n",
       "       [30, 0, 23, 29, 87],\n",
       "       [31, 1, 60, 30, 4],\n",
       "       [32, 0, 21, 30, 73],\n",
       "       [33, 1, 53, 33, 4],\n",
       "       [34, 1, 18, 33, 92],\n",
       "       [35, 0, 49, 33, 14],\n",
       "       [36, 0, 21, 33, 81],\n",
       "       [37, 0, 42, 34, 17],\n",
       "       [38, 0, 30, 34, 73],\n",
       "       [39, 0, 36, 37, 26],\n",
       "       [40, 0, 20, 37, 75],\n",
       "       [41, 0, 65, 38, 35],\n",
       "       [42, 1, 24, 38, 92],\n",
       "       [43, 1, 48, 39, 36],\n",
       "       [44, 0, 31, 39, 61],\n",
       "       [45, 0, 49, 39, 28],\n",
       "       [46, 0, 24, 39, 65],\n",
       "       [47, 0, 50, 40, 55],\n",
       "       [48, 0, 27, 40, 47],\n",
       "       [49, 0, 29, 40, 42],\n",
       "       [50, 0, 31, 40, 42],\n",
       "       [51, 0, 49, 42, 52],\n",
       "       [52, 1, 33, 42, 60],\n",
       "       [53, 0, 31, 43, 54],\n",
       "       [54, 1, 59, 43, 60],\n",
       "       [55, 0, 50, 43, 45],\n",
       "       [56, 1, 47, 43, 41],\n",
       "       [57, 0, 51, 44, 50],\n",
       "       [58, 1, 69, 44, 46],\n",
       "       [59, 0, 27, 46, 51],\n",
       "       [60, 1, 53, 46, 46],\n",
       "       [61, 1, 70, 46, 56],\n",
       "       [62, 1, 19, 46, 55],\n",
       "       [63, 0, 67, 47, 52],\n",
       "       [64, 0, 54, 47, 59],\n",
       "       [65, 1, 63, 48, 51],\n",
       "       [66, 1, 18, 48, 59],\n",
       "       [67, 0, 43, 48, 50],\n",
       "       [68, 0, 68, 48, 48],\n",
       "       [69, 1, 19, 48, 59],\n",
       "       [70, 0, 32, 48, 47],\n",
       "       [71, 1, 70, 49, 55],\n",
       "       [72, 0, 47, 49, 42],\n",
       "       [73, 0, 60, 50, 49],\n",
       "       [74, 0, 60, 50, 56],\n",
       "       [75, 1, 59, 54, 47],\n",
       "       [76, 1, 26, 54, 54],\n",
       "       [77, 0, 45, 54, 53],\n",
       "       [78, 1, 40, 54, 48],\n",
       "       [79, 0, 23, 54, 52],\n",
       "       [80, 0, 49, 54, 42],\n",
       "       [81, 1, 57, 54, 51],\n",
       "       [82, 1, 38, 54, 55],\n",
       "       [83, 1, 67, 54, 41],\n",
       "       [84, 0, 46, 54, 44],\n",
       "       [85, 0, 21, 54, 57],\n",
       "       [86, 1, 48, 54, 46],\n",
       "       [87, 0, 55, 57, 58],\n",
       "       [88, 0, 22, 57, 55],\n",
       "       [89, 0, 34, 58, 60],\n",
       "       [90, 0, 50, 58, 46],\n",
       "       [91, 0, 68, 59, 55],\n",
       "       [92, 1, 18, 59, 41],\n",
       "       [93, 1, 48, 60, 49],\n",
       "       [94, 0, 40, 60, 40],\n",
       "       [95, 0, 32, 60, 42],\n",
       "       [96, 1, 24, 60, 52],\n",
       "       [97, 0, 47, 60, 47],\n",
       "       [98, 0, 27, 60, 50],\n",
       "       [99, 1, 48, 61, 42],\n",
       "       [100, 1, 20, 61, 49],\n",
       "       [101, 0, 23, 62, 41],\n",
       "       [102, 0, 49, 62, 48],\n",
       "       [103, 1, 67, 62, 59],\n",
       "       [104, 1, 26, 62, 55],\n",
       "       [105, 1, 49, 62, 56],\n",
       "       [106, 0, 21, 62, 42],\n",
       "       [107, 0, 66, 63, 50],\n",
       "       [108, 1, 54, 63, 46],\n",
       "       [109, 1, 68, 63, 43],\n",
       "       [110, 1, 66, 63, 48],\n",
       "       [111, 1, 65, 63, 52],\n",
       "       [112, 0, 19, 63, 54],\n",
       "       [113, 0, 38, 64, 42],\n",
       "       [114, 1, 19, 64, 46],\n",
       "       [115, 0, 18, 65, 48],\n",
       "       [116, 0, 19, 65, 50],\n",
       "       [117, 0, 63, 65, 43],\n",
       "       [118, 0, 49, 65, 59],\n",
       "       [119, 0, 51, 67, 43],\n",
       "       [120, 0, 50, 67, 57],\n",
       "       [121, 1, 27, 67, 56],\n",
       "       [122, 0, 38, 67, 40],\n",
       "       [123, 0, 40, 69, 58],\n",
       "       [124, 1, 39, 69, 91],\n",
       "       [125, 0, 23, 70, 29],\n",
       "       [126, 0, 31, 70, 77],\n",
       "       [127, 1, 43, 71, 35],\n",
       "       [128, 1, 40, 71, 95],\n",
       "       [129, 1, 59, 71, 11],\n",
       "       [130, 1, 38, 71, 75],\n",
       "       [131, 1, 47, 71, 9],\n",
       "       [132, 1, 39, 71, 75],\n",
       "       [133, 0, 25, 72, 34],\n",
       "       [134, 0, 31, 72, 71],\n",
       "       [135, 1, 20, 73, 5],\n",
       "       [136, 0, 29, 73, 88],\n",
       "       [137, 0, 44, 73, 7],\n",
       "       [138, 1, 32, 73, 73],\n",
       "       [139, 1, 19, 74, 10],\n",
       "       [140, 0, 35, 74, 72],\n",
       "       [141, 0, 57, 75, 5],\n",
       "       [142, 1, 32, 75, 93],\n",
       "       [143, 0, 28, 76, 40],\n",
       "       [144, 0, 32, 76, 87],\n",
       "       [145, 1, 25, 77, 12],\n",
       "       [146, 1, 28, 77, 97],\n",
       "       [147, 1, 48, 77, 36],\n",
       "       [148, 0, 32, 77, 74],\n",
       "       [149, 0, 34, 78, 22],\n",
       "       [150, 1, 34, 78, 90],\n",
       "       [151, 1, 43, 78, 17],\n",
       "       [152, 1, 39, 78, 88],\n",
       "       [153, 0, 44, 78, 20],\n",
       "       [154, 0, 38, 78, 76],\n",
       "       [155, 0, 47, 78, 16],\n",
       "       [156, 0, 27, 78, 89],\n",
       "       [157, 1, 37, 78, 1],\n",
       "       [158, 0, 30, 78, 78],\n",
       "       [159, 1, 34, 78, 1],\n",
       "       [160, 0, 30, 78, 73],\n",
       "       [161, 0, 56, 79, 35],\n",
       "       [162, 0, 29, 79, 83],\n",
       "       [163, 1, 19, 81, 5],\n",
       "       [164, 0, 31, 81, 93],\n",
       "       [165, 1, 50, 85, 26],\n",
       "       [166, 0, 36, 85, 75],\n",
       "       [167, 1, 42, 86, 20],\n",
       "       [168, 0, 33, 86, 95],\n",
       "       [169, 0, 36, 87, 27],\n",
       "       [170, 1, 32, 87, 63],\n",
       "       [171, 1, 40, 87, 13],\n",
       "       [172, 1, 28, 87, 75],\n",
       "       [173, 1, 36, 87, 10],\n",
       "       [174, 1, 36, 87, 92],\n",
       "       [175, 0, 52, 88, 13],\n",
       "       [176, 0, 30, 88, 86],\n",
       "       [177, 1, 58, 88, 15],\n",
       "       [178, 1, 27, 88, 69],\n",
       "       [179, 1, 59, 93, 14],\n",
       "       [180, 1, 35, 93, 90],\n",
       "       [181, 0, 37, 97, 32],\n",
       "       [182, 0, 32, 97, 86],\n",
       "       [183, 1, 46, 98, 15],\n",
       "       [184, 0, 29, 98, 88],\n",
       "       [185, 0, 41, 99, 39],\n",
       "       [186, 1, 30, 99, 97],\n",
       "       [187, 0, 54, 101, 24],\n",
       "       [188, 1, 28, 101, 68],\n",
       "       [189, 0, 41, 103, 17],\n",
       "       [190, 0, 36, 103, 85],\n",
       "       [191, 0, 34, 103, 23],\n",
       "       [192, 0, 32, 103, 69],\n",
       "       [193, 1, 33, 113, 8],\n",
       "       [194, 0, 38, 113, 91],\n",
       "       [195, 0, 47, 120, 16],\n",
       "       [196, 0, 35, 120, 79],\n",
       "       [197, 0, 45, 126, 28],\n",
       "       [198, 1, 32, 126, 74],\n",
       "       [199, 1, 32, 137, 18],\n",
       "       [200, 1, 30, 137, 83]], dtype=object)"
      ]
     },
     "execution_count": 19,
     "metadata": {},
     "output_type": "execute_result"
    }
   ],
   "source": [
    "data"
   ]
  },
  {
   "cell_type": "code",
   "execution_count": 20,
   "id": "dfda1e52",
   "metadata": {},
   "outputs": [
    {
     "data": {
      "text/plain": [
       "array([100.5, 0.44, 38.85, 60.56, 50.2], dtype=object)"
      ]
     },
     "execution_count": 20,
     "metadata": {},
     "output_type": "execute_result"
    }
   ],
   "source": [
    "# Official definition is average across rows for each column\n",
    "data.mean(axis=0)"
   ]
  },
  {
   "cell_type": "code",
   "execution_count": 21,
   "id": "59fa1a9e",
   "metadata": {},
   "outputs": [
    {
     "data": {
      "text/plain": [
       "array([15.0, 24.0, 9.0, 24.0, 18.6, 24.2, 13.2, 28.6, 19.2, 26.2, 22.4,\n",
       "       33.0, 21.2, 27.0, 17.2, 27.6, 21.6, 25.2, 24.8, 35.2, 23.2, 29.0,\n",
       "       19.8, 30.8, 24.2, 33.2, 26.4, 30.6, 25.8, 33.8, 25.2, 31.2, 24.8,\n",
       "       35.6, 26.2, 34.2, 26.0, 35.0, 27.6, 34.4, 35.8, 39.4, 33.4, 35.0,\n",
       "       32.2, 34.8, 38.4, 32.4, 32.0, 32.6, 38.8, 37.6, 36.2, 43.4, 38.6,\n",
       "       37.6, 40.4, 43.6, 36.6, 41.2, 46.8, 36.6, 45.8, 44.8, 45.6, 38.4,\n",
       "       41.6, 46.4, 39.2, 39.4, 49.2, 42.0, 46.4, 48.0, 47.2, 42.2, 45.8,\n",
       "       44.2, 41.6, 45.0, 48.8, 46.0, 49.2, 45.6, 43.4, 47.0, 51.4, 44.4,\n",
       "       48.2, 48.8, 54.6, 42.2, 50.2, 46.8, 45.8, 46.6, 50.2, 47.0, 50.2,\n",
       "       46.2, 45.4, 52.2, 58.4, 49.6, 54.6, 46.2, 57.2, 54.4, 56.8, 57.6,\n",
       "       58.4, 49.6, 51.4, 48.8, 49.2, 50.0, 57.6, 58.2, 56.0, 58.8, 54.4,\n",
       "       53.4, 58.0, 64.8, 49.4, 60.8, 55.4, 67.0, 54.2, 63.0, 51.8, 63.6,\n",
       "       52.8, 61.6, 46.8, 65.2, 52.2, 63.4, 48.6, 64.2, 55.6, 68.6, 57.4,\n",
       "       67.8, 52.0, 69.8, 61.8, 66.2, 56.6, 70.6, 58.0, 71.6, 59.0, 69.2,\n",
       "       59.2, 70.0, 54.8, 68.8, 54.6, 68.2, 66.2, 70.6, 53.8, 73.8, 65.4,\n",
       "       72.4, 63.2, 76.4, 63.8, 70.6, 62.4, 72.6, 61.4, 78.0, 65.6, 76.0,\n",
       "       67.8, 72.6, 69.2, 79.8, 69.4, 79.4, 68.6, 79.8, 72.8, 82.6, 73.2,\n",
       "       77.2, 70.0, 82.8, 70.2, 79.2, 69.6, 87.2, 75.6, 86.0, 79.2, 86.2,\n",
       "       77.4, 90.2], dtype=object)"
      ]
     },
     "execution_count": 21,
     "metadata": {},
     "output_type": "execute_result"
    }
   ],
   "source": [
    "# Official definition is average across columns for each row\n",
    "data.mean(axis=1)"
   ]
  },
  {
   "cell_type": "code",
   "execution_count": 22,
   "id": "7e057ff1",
   "metadata": {},
   "outputs": [
    {
     "data": {
      "text/plain": [
       "50.11"
      ]
     },
     "execution_count": 22,
     "metadata": {},
     "output_type": "execute_result"
    }
   ],
   "source": [
    "# Average of all values\n",
    "data.mean()"
   ]
  },
  {
   "cell_type": "code",
   "execution_count": 23,
   "id": "70e51364",
   "metadata": {},
   "outputs": [
    {
     "data": {
      "text/plain": [
       "CustomerID                100.50\n",
       "Gender                      0.44\n",
       "Age                        38.85\n",
       "Annual Income (k$)         60.56\n",
       "Spending Score (1-100)     50.20\n",
       "dtype: float64"
      ]
     },
     "execution_count": 23,
     "metadata": {},
     "output_type": "execute_result"
    }
   ],
   "source": [
    "# Pandas equivalent \n",
    "df.mean(axis=0)"
   ]
  },
  {
   "cell_type": "markdown",
   "id": "97087f3d",
   "metadata": {},
   "source": [
    "#### Why Shape Matter"
   ]
  },
  {
   "cell_type": "code",
   "execution_count": 23,
   "id": "ae3b8e44",
   "metadata": {},
   "outputs": [
    {
     "data": {
      "text/html": [
       "<div>\n",
       "<style scoped>\n",
       "    .dataframe tbody tr th:only-of-type {\n",
       "        vertical-align: middle;\n",
       "    }\n",
       "\n",
       "    .dataframe tbody tr th {\n",
       "        vertical-align: top;\n",
       "    }\n",
       "\n",
       "    .dataframe thead th {\n",
       "        text-align: right;\n",
       "    }\n",
       "</style>\n",
       "<table border=\"1\" class=\"dataframe\">\n",
       "  <thead>\n",
       "    <tr style=\"text-align: right;\">\n",
       "      <th></th>\n",
       "      <th>CustomerID</th>\n",
       "      <th>Gender</th>\n",
       "      <th>Age</th>\n",
       "      <th>Annual Income (k$)</th>\n",
       "      <th>Spending Score (1-100)</th>\n",
       "    </tr>\n",
       "  </thead>\n",
       "  <tbody>\n",
       "    <tr>\n",
       "      <th>0</th>\n",
       "      <td>1</td>\n",
       "      <td>Male</td>\n",
       "      <td>19</td>\n",
       "      <td>15</td>\n",
       "      <td>39</td>\n",
       "    </tr>\n",
       "    <tr>\n",
       "      <th>1</th>\n",
       "      <td>2</td>\n",
       "      <td>Male</td>\n",
       "      <td>21</td>\n",
       "      <td>15</td>\n",
       "      <td>81</td>\n",
       "    </tr>\n",
       "    <tr>\n",
       "      <th>2</th>\n",
       "      <td>3</td>\n",
       "      <td>Female</td>\n",
       "      <td>20</td>\n",
       "      <td>16</td>\n",
       "      <td>6</td>\n",
       "    </tr>\n",
       "    <tr>\n",
       "      <th>3</th>\n",
       "      <td>4</td>\n",
       "      <td>Female</td>\n",
       "      <td>23</td>\n",
       "      <td>16</td>\n",
       "      <td>77</td>\n",
       "    </tr>\n",
       "    <tr>\n",
       "      <th>4</th>\n",
       "      <td>5</td>\n",
       "      <td>Female</td>\n",
       "      <td>31</td>\n",
       "      <td>17</td>\n",
       "      <td>40</td>\n",
       "    </tr>\n",
       "    <tr>\n",
       "      <th>...</th>\n",
       "      <td>...</td>\n",
       "      <td>...</td>\n",
       "      <td>...</td>\n",
       "      <td>...</td>\n",
       "      <td>...</td>\n",
       "    </tr>\n",
       "    <tr>\n",
       "      <th>195</th>\n",
       "      <td>196</td>\n",
       "      <td>Female</td>\n",
       "      <td>35</td>\n",
       "      <td>120</td>\n",
       "      <td>79</td>\n",
       "    </tr>\n",
       "    <tr>\n",
       "      <th>196</th>\n",
       "      <td>197</td>\n",
       "      <td>Female</td>\n",
       "      <td>45</td>\n",
       "      <td>126</td>\n",
       "      <td>28</td>\n",
       "    </tr>\n",
       "    <tr>\n",
       "      <th>197</th>\n",
       "      <td>198</td>\n",
       "      <td>Male</td>\n",
       "      <td>32</td>\n",
       "      <td>126</td>\n",
       "      <td>74</td>\n",
       "    </tr>\n",
       "    <tr>\n",
       "      <th>198</th>\n",
       "      <td>199</td>\n",
       "      <td>Male</td>\n",
       "      <td>32</td>\n",
       "      <td>137</td>\n",
       "      <td>18</td>\n",
       "    </tr>\n",
       "    <tr>\n",
       "      <th>199</th>\n",
       "      <td>200</td>\n",
       "      <td>Male</td>\n",
       "      <td>30</td>\n",
       "      <td>137</td>\n",
       "      <td>83</td>\n",
       "    </tr>\n",
       "  </tbody>\n",
       "</table>\n",
       "<p>200 rows × 5 columns</p>\n",
       "</div>"
      ],
      "text/plain": [
       "     CustomerID  Gender  Age  Annual Income (k$)  Spending Score (1-100)\n",
       "0             1    Male   19                  15                      39\n",
       "1             2    Male   21                  15                      81\n",
       "2             3  Female   20                  16                       6\n",
       "3             4  Female   23                  16                      77\n",
       "4             5  Female   31                  17                      40\n",
       "..          ...     ...  ...                 ...                     ...\n",
       "195         196  Female   35                 120                      79\n",
       "196         197  Female   45                 126                      28\n",
       "197         198    Male   32                 126                      74\n",
       "198         199    Male   32                 137                      18\n",
       "199         200    Male   30                 137                      83\n",
       "\n",
       "[200 rows x 5 columns]"
      ]
     },
     "execution_count": 23,
     "metadata": {},
     "output_type": "execute_result"
    }
   ],
   "source": [
    "df = pd.read_csv('Mall_Customers.csv')\n",
    "df"
   ]
  },
  {
   "cell_type": "code",
   "execution_count": 24,
   "id": "8f9e9c79",
   "metadata": {},
   "outputs": [
    {
     "data": {
      "text/plain": [
       "(200, 5)"
      ]
     },
     "execution_count": 24,
     "metadata": {},
     "output_type": "execute_result"
    }
   ],
   "source": [
    "df.shape"
   ]
  },
  {
   "cell_type": "code",
   "execution_count": 25,
   "id": "ddcb33c9",
   "metadata": {},
   "outputs": [],
   "source": [
    "from PIL import Image"
   ]
  },
  {
   "cell_type": "code",
   "execution_count": 29,
   "id": "6d97546d",
   "metadata": {},
   "outputs": [],
   "source": [
    "img0 = Image.open('four.png')"
   ]
  },
  {
   "cell_type": "code",
   "execution_count": 30,
   "id": "f3cae86e",
   "metadata": {},
   "outputs": [
    {
     "data": {
      "image/jpeg": "[encoded data removed]",
      "image/png": "[encoded data removed]",
      "text/plain": [
       "<PIL.PngImagePlugin.PngImageFile image mode=RGB size=505x514>"
      ]
     },
     "metadata": {},
     "output_type": "display_data"
    }
   ],
   "source": [
    "img0.show()"
   ]
  },
  {
   "cell_type": "code",
   "execution_count": 31,
   "id": "24e05c11",
   "metadata": {},
   "outputs": [
    {
     "data": {
      "text/plain": [
       "(514, 505, 3)"
      ]
     },
     "execution_count": 31,
     "metadata": {},
     "output_type": "execute_result"
    }
   ],
   "source": [
    "img0_array = np.array(img0)\n",
    "img0_array.shape"
   ]
  },
  {
   "cell_type": "markdown",
   "id": "cdcbeccf",
   "metadata": {},
   "source": [
    "- In ML, we troubleshoots by shape especially during deep learning "
   ]
  },
  {
   "cell_type": "markdown",
   "id": "2a84b924",
   "metadata": {},
   "source": [
    "#### Identify Shapes"
   ]
  },
  {
   "cell_type": "code",
   "execution_count": 32,
   "id": "0f351feb",
   "metadata": {},
   "outputs": [
    {
     "data": {
      "text/plain": [
       "3"
      ]
     },
     "execution_count": 32,
     "metadata": {},
     "output_type": "execute_result"
    }
   ],
   "source": [
    "np.ndim(img0_array)"
   ]
  },
  {
   "cell_type": "code",
   "execution_count": 33,
   "id": "016758be",
   "metadata": {},
   "outputs": [
    {
     "data": {
      "text/plain": [
       "2"
      ]
     },
     "execution_count": 33,
     "metadata": {},
     "output_type": "execute_result"
    }
   ],
   "source": [
    "np.ndim(data)"
   ]
  },
  {
   "cell_type": "code",
   "execution_count": 34,
   "id": "b046a338",
   "metadata": {},
   "outputs": [
    {
     "data": {
      "text/plain": [
       "(5,)"
      ]
     },
     "execution_count": 34,
     "metadata": {},
     "output_type": "execute_result"
    }
   ],
   "source": [
    "v1 = np.array([1,2,3,4,5])\n",
    "v1.shape"
   ]
  },
  {
   "cell_type": "code",
   "execution_count": 35,
   "id": "ca37e76f",
   "metadata": {},
   "outputs": [
    {
     "data": {
      "text/plain": [
       "1"
      ]
     },
     "execution_count": 35,
     "metadata": {},
     "output_type": "execute_result"
    }
   ],
   "source": [
    "np.ndim(v1)"
   ]
  },
  {
   "cell_type": "code",
   "execution_count": 36,
   "id": "bc19a7fc",
   "metadata": {},
   "outputs": [
    {
     "data": {
      "text/plain": [
       "(1, 5)"
      ]
     },
     "execution_count": 36,
     "metadata": {},
     "output_type": "execute_result"
    }
   ],
   "source": [
    "v2 = np.array([[1,2,3,4,5]])\n",
    "v2.shape"
   ]
  },
  {
   "cell_type": "code",
   "execution_count": 37,
   "id": "7b906f41",
   "metadata": {},
   "outputs": [
    {
     "data": {
      "text/plain": [
       "(5, 1)"
      ]
     },
     "execution_count": 37,
     "metadata": {},
     "output_type": "execute_result"
    }
   ],
   "source": [
    "v3 = np.array([[1],[2],[3],[4],[5]])\n",
    "v3.shape"
   ]
  },
  {
   "cell_type": "code",
   "execution_count": 38,
   "id": "1984a42e",
   "metadata": {},
   "outputs": [
    {
     "data": {
      "text/plain": [
       "(5, 1)"
      ]
     },
     "execution_count": 38,
     "metadata": {},
     "output_type": "execute_result"
    }
   ],
   "source": [
    "v4 = np.zeros((5,1))\n",
    "v4.shape"
   ]
  },
  {
   "cell_type": "code",
   "execution_count": 39,
   "id": "3e5cab60",
   "metadata": {},
   "outputs": [
    {
     "data": {
      "text/plain": [
       "array([[0.],\n",
       "       [0.],\n",
       "       [0.],\n",
       "       [0.],\n",
       "       [0.]])"
      ]
     },
     "execution_count": 39,
     "metadata": {},
     "output_type": "execute_result"
    }
   ],
   "source": [
    "v4"
   ]
  },
  {
   "cell_type": "code",
   "execution_count": 24,
   "id": "574cbd66",
   "metadata": {},
   "outputs": [
    {
     "data": {
      "text/plain": [
       "(5, 1)"
      ]
     },
     "execution_count": 24,
     "metadata": {},
     "output_type": "execute_result"
    }
   ],
   "source": [
    "v5 = np.array([1,2,3,4,5])\n",
    "v5 = v5.reshape((5,1))\n",
    "v5.shape    "
   ]
  },
  {
   "cell_type": "markdown",
   "id": "03ac9655",
   "metadata": {},
   "source": [
    "#### Differentiate Between Pandas and Numpy"
   ]
  },
  {
   "cell_type": "code",
   "execution_count": 40,
   "id": "b2cd78e0",
   "metadata": {},
   "outputs": [
    {
     "data": {
      "text/plain": [
       "pandas.core.frame.DataFrame"
      ]
     },
     "execution_count": 40,
     "metadata": {},
     "output_type": "execute_result"
    }
   ],
   "source": [
    "type(df)"
   ]
  },
  {
   "cell_type": "code",
   "execution_count": 41,
   "id": "e3c87479",
   "metadata": {},
   "outputs": [
    {
     "data": {
      "text/plain": [
       "numpy.ndarray"
      ]
     },
     "execution_count": 41,
     "metadata": {},
     "output_type": "execute_result"
    }
   ],
   "source": [
    "type(data)"
   ]
  },
  {
   "cell_type": "markdown",
   "id": "44865531",
   "metadata": {},
   "source": [
    "- In ML, some model can take in Pandas and return Pandas\n",
    "- some model take in Pandas and return numpy"
   ]
  },
  {
   "cell_type": "markdown",
   "id": "7636be96",
   "metadata": {},
   "source": [
    "#### ConvertingDifferentiate Between Pandas and Numpy"
   ]
  },
  {
   "cell_type": "markdown",
   "id": "8bd84baf",
   "metadata": {},
   "source": [
    "Convert Pandas to Numpy"
   ]
  },
  {
   "cell_type": "code",
   "execution_count": 47,
   "id": "16000bc9",
   "metadata": {},
   "outputs": [],
   "source": [
    "numpy_df = df.to_numpy()"
   ]
  },
  {
   "cell_type": "code",
   "execution_count": 48,
   "id": "0a744714",
   "metadata": {},
   "outputs": [
    {
     "data": {
      "text/plain": [
       "array([[1, 'Male', 19, 15, 39],\n",
       "       [2, 'Male', 21, 15, 81],\n",
       "       [3, 'Female', 20, 16, 6],\n",
       "       [4, 'Female', 23, 16, 77],\n",
       "       [5, 'Female', 31, 17, 40],\n",
       "       [6, 'Female', 22, 17, 76],\n",
       "       [7, 'Female', 35, 18, 6],\n",
       "       [8, 'Female', 23, 18, 94],\n",
       "       [9, 'Male', 64, 19, 3],\n",
       "       [10, 'Female', 30, 19, 72],\n",
       "       [11, 'Male', 67, 19, 14],\n",
       "       [12, 'Female', 35, 19, 99],\n",
       "       [13, 'Female', 58, 20, 15],\n",
       "       [14, 'Female', 24, 20, 77],\n",
       "       [15, 'Male', 37, 20, 13],\n",
       "       [16, 'Male', 22, 20, 79],\n",
       "       [17, 'Female', 35, 21, 35],\n",
       "       [18, 'Male', 20, 21, 66],\n",
       "       [19, 'Male', 52, 23, 29],\n",
       "       [20, 'Female', 35, 23, 98],\n",
       "       [21, 'Male', 35, 24, 35],\n",
       "       [22, 'Male', 25, 24, 73],\n",
       "       [23, 'Female', 46, 25, 5],\n",
       "       [24, 'Male', 31, 25, 73],\n",
       "       [25, 'Female', 54, 28, 14],\n",
       "       [26, 'Male', 29, 28, 82],\n",
       "       [27, 'Female', 45, 28, 32],\n",
       "       [28, 'Male', 35, 28, 61],\n",
       "       [29, 'Female', 40, 29, 31],\n",
       "       [30, 'Female', 23, 29, 87],\n",
       "       [31, 'Male', 60, 30, 4],\n",
       "       [32, 'Female', 21, 30, 73],\n",
       "       [33, 'Male', 53, 33, 4],\n",
       "       [34, 'Male', 18, 33, 92],\n",
       "       [35, 'Female', 49, 33, 14],\n",
       "       [36, 'Female', 21, 33, 81],\n",
       "       [37, 'Female', 42, 34, 17],\n",
       "       [38, 'Female', 30, 34, 73],\n",
       "       [39, 'Female', 36, 37, 26],\n",
       "       [40, 'Female', 20, 37, 75],\n",
       "       [41, 'Female', 65, 38, 35],\n",
       "       [42, 'Male', 24, 38, 92],\n",
       "       [43, 'Male', 48, 39, 36],\n",
       "       [44, 'Female', 31, 39, 61],\n",
       "       [45, 'Female', 49, 39, 28],\n",
       "       [46, 'Female', 24, 39, 65],\n",
       "       [47, 'Female', 50, 40, 55],\n",
       "       [48, 'Female', 27, 40, 47],\n",
       "       [49, 'Female', 29, 40, 42],\n",
       "       [50, 'Female', 31, 40, 42],\n",
       "       [51, 'Female', 49, 42, 52],\n",
       "       [52, 'Male', 33, 42, 60],\n",
       "       [53, 'Female', 31, 43, 54],\n",
       "       [54, 'Male', 59, 43, 60],\n",
       "       [55, 'Female', 50, 43, 45],\n",
       "       [56, 'Male', 47, 43, 41],\n",
       "       [57, 'Female', 51, 44, 50],\n",
       "       [58, 'Male', 69, 44, 46],\n",
       "       [59, 'Female', 27, 46, 51],\n",
       "       [60, 'Male', 53, 46, 46],\n",
       "       [61, 'Male', 70, 46, 56],\n",
       "       [62, 'Male', 19, 46, 55],\n",
       "       [63, 'Female', 67, 47, 52],\n",
       "       [64, 'Female', 54, 47, 59],\n",
       "       [65, 'Male', 63, 48, 51],\n",
       "       [66, 'Male', 18, 48, 59],\n",
       "       [67, 'Female', 43, 48, 50],\n",
       "       [68, 'Female', 68, 48, 48],\n",
       "       [69, 'Male', 19, 48, 59],\n",
       "       [70, 'Female', 32, 48, 47],\n",
       "       [71, 'Male', 70, 49, 55],\n",
       "       [72, 'Female', 47, 49, 42],\n",
       "       [73, 'Female', 60, 50, 49],\n",
       "       [74, 'Female', 60, 50, 56],\n",
       "       [75, 'Male', 59, 54, 47],\n",
       "       [76, 'Male', 26, 54, 54],\n",
       "       [77, 'Female', 45, 54, 53],\n",
       "       [78, 'Male', 40, 54, 48],\n",
       "       [79, 'Female', 23, 54, 52],\n",
       "       [80, 'Female', 49, 54, 42],\n",
       "       [81, 'Male', 57, 54, 51],\n",
       "       [82, 'Male', 38, 54, 55],\n",
       "       [83, 'Male', 67, 54, 41],\n",
       "       [84, 'Female', 46, 54, 44],\n",
       "       [85, 'Female', 21, 54, 57],\n",
       "       [86, 'Male', 48, 54, 46],\n",
       "       [87, 'Female', 55, 57, 58],\n",
       "       [88, 'Female', 22, 57, 55],\n",
       "       [89, 'Female', 34, 58, 60],\n",
       "       [90, 'Female', 50, 58, 46],\n",
       "       [91, 'Female', 68, 59, 55],\n",
       "       [92, 'Male', 18, 59, 41],\n",
       "       [93, 'Male', 48, 60, 49],\n",
       "       [94, 'Female', 40, 60, 40],\n",
       "       [95, 'Female', 32, 60, 42],\n",
       "       [96, 'Male', 24, 60, 52],\n",
       "       [97, 'Female', 47, 60, 47],\n",
       "       [98, 'Female', 27, 60, 50],\n",
       "       [99, 'Male', 48, 61, 42],\n",
       "       [100, 'Male', 20, 61, 49],\n",
       "       [101, 'Female', 23, 62, 41],\n",
       "       [102, 'Female', 49, 62, 48],\n",
       "       [103, 'Male', 67, 62, 59],\n",
       "       [104, 'Male', 26, 62, 55],\n",
       "       [105, 'Male', 49, 62, 56],\n",
       "       [106, 'Female', 21, 62, 42],\n",
       "       [107, 'Female', 66, 63, 50],\n",
       "       [108, 'Male', 54, 63, 46],\n",
       "       [109, 'Male', 68, 63, 43],\n",
       "       [110, 'Male', 66, 63, 48],\n",
       "       [111, 'Male', 65, 63, 52],\n",
       "       [112, 'Female', 19, 63, 54],\n",
       "       [113, 'Female', 38, 64, 42],\n",
       "       [114, 'Male', 19, 64, 46],\n",
       "       [115, 'Female', 18, 65, 48],\n",
       "       [116, 'Female', 19, 65, 50],\n",
       "       [117, 'Female', 63, 65, 43],\n",
       "       [118, 'Female', 49, 65, 59],\n",
       "       [119, 'Female', 51, 67, 43],\n",
       "       [120, 'Female', 50, 67, 57],\n",
       "       [121, 'Male', 27, 67, 56],\n",
       "       [122, 'Female', 38, 67, 40],\n",
       "       [123, 'Female', 40, 69, 58],\n",
       "       [124, 'Male', 39, 69, 91],\n",
       "       [125, 'Female', 23, 70, 29],\n",
       "       [126, 'Female', 31, 70, 77],\n",
       "       [127, 'Male', 43, 71, 35],\n",
       "       [128, 'Male', 40, 71, 95],\n",
       "       [129, 'Male', 59, 71, 11],\n",
       "       [130, 'Male', 38, 71, 75],\n",
       "       [131, 'Male', 47, 71, 9],\n",
       "       [132, 'Male', 39, 71, 75],\n",
       "       [133, 'Female', 25, 72, 34],\n",
       "       [134, 'Female', 31, 72, 71],\n",
       "       [135, 'Male', 20, 73, 5],\n",
       "       [136, 'Female', 29, 73, 88],\n",
       "       [137, 'Female', 44, 73, 7],\n",
       "       [138, 'Male', 32, 73, 73],\n",
       "       [139, 'Male', 19, 74, 10],\n",
       "       [140, 'Female', 35, 74, 72],\n",
       "       [141, 'Female', 57, 75, 5],\n",
       "       [142, 'Male', 32, 75, 93],\n",
       "       [143, 'Female', 28, 76, 40],\n",
       "       [144, 'Female', 32, 76, 87],\n",
       "       [145, 'Male', 25, 77, 12],\n",
       "       [146, 'Male', 28, 77, 97],\n",
       "       [147, 'Male', 48, 77, 36],\n",
       "       [148, 'Female', 32, 77, 74],\n",
       "       [149, 'Female', 34, 78, 22],\n",
       "       [150, 'Male', 34, 78, 90],\n",
       "       [151, 'Male', 43, 78, 17],\n",
       "       [152, 'Male', 39, 78, 88],\n",
       "       [153, 'Female', 44, 78, 20],\n",
       "       [154, 'Female', 38, 78, 76],\n",
       "       [155, 'Female', 47, 78, 16],\n",
       "       [156, 'Female', 27, 78, 89],\n",
       "       [157, 'Male', 37, 78, 1],\n",
       "       [158, 'Female', 30, 78, 78],\n",
       "       [159, 'Male', 34, 78, 1],\n",
       "       [160, 'Female', 30, 78, 73],\n",
       "       [161, 'Female', 56, 79, 35],\n",
       "       [162, 'Female', 29, 79, 83],\n",
       "       [163, 'Male', 19, 81, 5],\n",
       "       [164, 'Female', 31, 81, 93],\n",
       "       [165, 'Male', 50, 85, 26],\n",
       "       [166, 'Female', 36, 85, 75],\n",
       "       [167, 'Male', 42, 86, 20],\n",
       "       [168, 'Female', 33, 86, 95],\n",
       "       [169, 'Female', 36, 87, 27],\n",
       "       [170, 'Male', 32, 87, 63],\n",
       "       [171, 'Male', 40, 87, 13],\n",
       "       [172, 'Male', 28, 87, 75],\n",
       "       [173, 'Male', 36, 87, 10],\n",
       "       [174, 'Male', 36, 87, 92],\n",
       "       [175, 'Female', 52, 88, 13],\n",
       "       [176, 'Female', 30, 88, 86],\n",
       "       [177, 'Male', 58, 88, 15],\n",
       "       [178, 'Male', 27, 88, 69],\n",
       "       [179, 'Male', 59, 93, 14],\n",
       "       [180, 'Male', 35, 93, 90],\n",
       "       [181, 'Female', 37, 97, 32],\n",
       "       [182, 'Female', 32, 97, 86],\n",
       "       [183, 'Male', 46, 98, 15],\n",
       "       [184, 'Female', 29, 98, 88],\n",
       "       [185, 'Female', 41, 99, 39],\n",
       "       [186, 'Male', 30, 99, 97],\n",
       "       [187, 'Female', 54, 101, 24],\n",
       "       [188, 'Male', 28, 101, 68],\n",
       "       [189, 'Female', 41, 103, 17],\n",
       "       [190, 'Female', 36, 103, 85],\n",
       "       [191, 'Female', 34, 103, 23],\n",
       "       [192, 'Female', 32, 103, 69],\n",
       "       [193, 'Male', 33, 113, 8],\n",
       "       [194, 'Female', 38, 113, 91],\n",
       "       [195, 'Female', 47, 120, 16],\n",
       "       [196, 'Female', 35, 120, 79],\n",
       "       [197, 'Female', 45, 126, 28],\n",
       "       [198, 'Male', 32, 126, 74],\n",
       "       [199, 'Male', 32, 137, 18],\n",
       "       [200, 'Male', 30, 137, 83]], dtype=object)"
      ]
     },
     "execution_count": 48,
     "metadata": {},
     "output_type": "execute_result"
    }
   ],
   "source": [
    "numpy_df"
   ]
  },
  {
   "cell_type": "markdown",
   "id": "b285fb2e",
   "metadata": {},
   "source": [
    "Convert Numpy to Pandas"
   ]
  },
  {
   "cell_type": "code",
   "execution_count": 49,
   "id": "937a4cc6",
   "metadata": {},
   "outputs": [],
   "source": [
    "new_df = pd.DataFrame(data, columns=['CustomerID', 'Gender', 'Age', 'Annual Income (k$)', 'Spending Score (1-100)'])"
   ]
  },
  {
   "cell_type": "code",
   "execution_count": 50,
   "id": "10d936d5",
   "metadata": {},
   "outputs": [
    {
     "data": {
      "text/html": [
       "<div>\n",
       "<style scoped>\n",
       "    .dataframe tbody tr th:only-of-type {\n",
       "        vertical-align: middle;\n",
       "    }\n",
       "\n",
       "    .dataframe tbody tr th {\n",
       "        vertical-align: top;\n",
       "    }\n",
       "\n",
       "    .dataframe thead th {\n",
       "        text-align: right;\n",
       "    }\n",
       "</style>\n",
       "<table border=\"1\" class=\"dataframe\">\n",
       "  <thead>\n",
       "    <tr style=\"text-align: right;\">\n",
       "      <th></th>\n",
       "      <th>CustomerID</th>\n",
       "      <th>Gender</th>\n",
       "      <th>Age</th>\n",
       "      <th>Annual Income (k$)</th>\n",
       "      <th>Spending Score (1-100)</th>\n",
       "    </tr>\n",
       "  </thead>\n",
       "  <tbody>\n",
       "    <tr>\n",
       "      <th>0</th>\n",
       "      <td>1</td>\n",
       "      <td>1</td>\n",
       "      <td>19</td>\n",
       "      <td>15</td>\n",
       "      <td>39</td>\n",
       "    </tr>\n",
       "    <tr>\n",
       "      <th>1</th>\n",
       "      <td>2</td>\n",
       "      <td>1</td>\n",
       "      <td>21</td>\n",
       "      <td>15</td>\n",
       "      <td>81</td>\n",
       "    </tr>\n",
       "    <tr>\n",
       "      <th>2</th>\n",
       "      <td>3</td>\n",
       "      <td>0</td>\n",
       "      <td>20</td>\n",
       "      <td>16</td>\n",
       "      <td>6</td>\n",
       "    </tr>\n",
       "    <tr>\n",
       "      <th>3</th>\n",
       "      <td>4</td>\n",
       "      <td>0</td>\n",
       "      <td>23</td>\n",
       "      <td>16</td>\n",
       "      <td>77</td>\n",
       "    </tr>\n",
       "    <tr>\n",
       "      <th>4</th>\n",
       "      <td>5</td>\n",
       "      <td>0</td>\n",
       "      <td>31</td>\n",
       "      <td>17</td>\n",
       "      <td>40</td>\n",
       "    </tr>\n",
       "    <tr>\n",
       "      <th>...</th>\n",
       "      <td>...</td>\n",
       "      <td>...</td>\n",
       "      <td>...</td>\n",
       "      <td>...</td>\n",
       "      <td>...</td>\n",
       "    </tr>\n",
       "    <tr>\n",
       "      <th>195</th>\n",
       "      <td>196</td>\n",
       "      <td>0</td>\n",
       "      <td>35</td>\n",
       "      <td>120</td>\n",
       "      <td>79</td>\n",
       "    </tr>\n",
       "    <tr>\n",
       "      <th>196</th>\n",
       "      <td>197</td>\n",
       "      <td>0</td>\n",
       "      <td>45</td>\n",
       "      <td>126</td>\n",
       "      <td>28</td>\n",
       "    </tr>\n",
       "    <tr>\n",
       "      <th>197</th>\n",
       "      <td>198</td>\n",
       "      <td>1</td>\n",
       "      <td>32</td>\n",
       "      <td>126</td>\n",
       "      <td>74</td>\n",
       "    </tr>\n",
       "    <tr>\n",
       "      <th>198</th>\n",
       "      <td>199</td>\n",
       "      <td>1</td>\n",
       "      <td>32</td>\n",
       "      <td>137</td>\n",
       "      <td>18</td>\n",
       "    </tr>\n",
       "    <tr>\n",
       "      <th>199</th>\n",
       "      <td>200</td>\n",
       "      <td>1</td>\n",
       "      <td>30</td>\n",
       "      <td>137</td>\n",
       "      <td>83</td>\n",
       "    </tr>\n",
       "  </tbody>\n",
       "</table>\n",
       "<p>200 rows × 5 columns</p>\n",
       "</div>"
      ],
      "text/plain": [
       "    CustomerID Gender Age Annual Income (k$) Spending Score (1-100)\n",
       "0            1      1  19                 15                     39\n",
       "1            2      1  21                 15                     81\n",
       "2            3      0  20                 16                      6\n",
       "3            4      0  23                 16                     77\n",
       "4            5      0  31                 17                     40\n",
       "..         ...    ...  ..                ...                    ...\n",
       "195        196      0  35                120                     79\n",
       "196        197      0  45                126                     28\n",
       "197        198      1  32                126                     74\n",
       "198        199      1  32                137                     18\n",
       "199        200      1  30                137                     83\n",
       "\n",
       "[200 rows x 5 columns]"
      ]
     },
     "execution_count": 50,
     "metadata": {},
     "output_type": "execute_result"
    }
   ],
   "source": [
    "new_df"
   ]
  },
  {
   "cell_type": "markdown",
   "id": "c546d961",
   "metadata": {},
   "source": [
    "#### Summary\n",
    "\n",
    "- Pandas build on Numpy, most function is the same\n",
    "- Shapes matter\n",
    "- Numpy and Pandas was used interchangeably in ML\n",
    "- Need to cone back to numpy if you want to learn in depth how the ML models perform its computation"
   ]
  },
  {
   "cell_type": "markdown",
   "id": "7d3ec368",
   "metadata": {},
   "source": [
    "### Matrix Computation"
   ]
  },
  {
   "cell_type": "markdown",
   "id": "957928df",
   "metadata": {},
   "source": [
    "- https://github.com/mlnotes2718/Introduction-Machine-Learning/blob/main/ML%20Master%20Notes%203%20-%20Simple%20Linear%20Regression%20(One%20Feature%20No%20Intercept).ipynb\n",
    "\n",
    "- https://github.com/mlnotes2718/Introduction-Machine-Learning/blob/main/ML%20Master%20Notes%208%20-%20Multiple%20Regression%20and%20Vectorization.ipynb\n",
    "\n"
   ]
  },
  {
   "cell_type": "markdown",
   "id": "1e1b03cf",
   "metadata": {},
   "source": [
    "## Learning and Manage Stress"
   ]
  },
  {
   "cell_type": "markdown",
   "id": "5f5cfe98",
   "metadata": {},
   "source": [
    "- Focus on skills acquisition\n",
    "- Accommodate to multiple solutions to one problem \n",
    "- Take in the important information and come back later for depth\n",
    "- Use Google, Youtube and LLM to assist"
   ]
  },
  {
   "cell_type": "markdown",
   "id": "6bcccbe8",
   "metadata": {},
   "source": []
  }
 ],
 "metadata": {
  "kernelspec": {
   "display_name": "Python 3 (ipykernel)",
   "language": "python",
   "name": "python3"
  },
  "language_info": {
   "codemirror_mode": {
    "name": "ipython",
    "version": 3
   },
   "file_extension": ".py",
   "mimetype": "text/x-python",
   "name": "python",
   "nbconvert_exporter": "python",
   "pygments_lexer": "ipython3",
   "version": "3.10.19"
  }
 },
 "nbformat": 4,
 "nbformat_minor": 5
}
